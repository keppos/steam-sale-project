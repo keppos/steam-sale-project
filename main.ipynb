{
 "cells": [
  {
   "cell_type": "markdown",
   "metadata": {},
   "source": [
    "### Project for a data engineering course.\n",
    "\n",
    "DATASET https://store.steampowered.com/search/?specials=1&page=1\n",
    "\n",
    "The project is about successfully scraping data from steam's store page for products with reduced prices. \n"
   ]
  },
  {
   "cell_type": "markdown",
   "metadata": {},
   "source": [
    "### Reflection\n",
    "\n",
    "From the start I found this project a lot more interesting than the first one, maybe because it really felt like I was trying to display information that is quite interesting to me. \n",
    "I got kind of a good start, Dennis really went through BeautifulSoup thoroughly so every student would understand. And the tips was very helpful as well. \n",
    "I used youtube and some forums as tools, but the lectures helped a good bit. \n",
    "\n",
    "As usually, the first couple of hours went down to a lot of testing and trying to understand the fundamentals of beautifulsoup as well as IPython. But when I got a solid starting point, everything started to flow and I was making quite fast progress until I started struggling with the loops. It took a while to display all of the 125 games from the first pages instead of just one of the pages. \n",
    "\n",
    "Overall, I'm happy about how this project turned out and I'm looking forward to the next one. I tried to comment my code as clearly as possible. "
   ]
  },
  {
   "cell_type": "code",
   "execution_count": 243,
   "metadata": {},
   "outputs": [],
   "source": [
    "import pandas as pd\n",
    "import os\n",
    "import requests\n",
    "from bs4 import BeautifulSoup\n",
    "from IPython.core.display import HTML"
   ]
  },
  {
   "cell_type": "code",
   "execution_count": 244,
   "metadata": {},
   "outputs": [
    {
     "data": {
      "text/plain": [
       "bs4.BeautifulSoup"
      ]
     },
     "execution_count": 244,
     "metadata": {},
     "output_type": "execute_result"
    }
   ],
   "source": [
    "# Download the steam data, not used later on because needed to loop through first 5 pages.\n",
    "\n",
    "SEARCH_URL = \"https://store.steampowered.com/search/?specials=1&page=1\"\n",
    "res = requests.get(SEARCH_URL)\n",
    "soup = BeautifulSoup(res.text, 'html.parser')\n",
    "prettysoup = soup.prettify()\n",
    "type(soup)"
   ]
  },
  {
   "cell_type": "code",
   "execution_count": 245,
   "metadata": {},
   "outputs": [
    {
     "data": {
      "text/html": [
       "<div>\n",
       "<style scoped>\n",
       "    .dataframe tbody tr th:only-of-type {\n",
       "        vertical-align: middle;\n",
       "    }\n",
       "\n",
       "    .dataframe tbody tr th {\n",
       "        vertical-align: top;\n",
       "    }\n",
       "\n",
       "    .dataframe thead th {\n",
       "        text-align: right;\n",
       "    }\n",
       "</style>\n",
       "<table border=\"1\" class=\"dataframe\">\n",
       "  <thead>\n",
       "    <tr style=\"text-align: right;\">\n",
       "      <th></th>\n",
       "      <th>Game</th>\n",
       "      <th>Release date</th>\n",
       "      <th>Rating</th>\n",
       "      <th>Sale %</th>\n",
       "      <th>Price</th>\n",
       "      <th>Original price</th>\n",
       "      <th>Windows</th>\n",
       "      <th>Linux</th>\n",
       "      <th>Mac</th>\n",
       "    </tr>\n",
       "  </thead>\n",
       "  <tbody>\n",
       "    <tr>\n",
       "      <th>0</th>\n",
       "      <td>Euro Truck Simulator 2</td>\n",
       "      <td>12 Oct, 2012</td>\n",
       "      <td>97</td>\n",
       "      <td>-75%</td>\n",
       "      <td>4,99€</td>\n",
       "      <td>19,99€</td>\n",
       "      <td>1</td>\n",
       "      <td>1</td>\n",
       "      <td>1</td>\n",
       "    </tr>\n",
       "    <tr>\n",
       "      <th>1</th>\n",
       "      <td>Horizon Zero Dawn™ Complete Edition</td>\n",
       "      <td>7 Aug, 2020</td>\n",
       "      <td>87</td>\n",
       "      <td>-75%</td>\n",
       "      <td>12,49€</td>\n",
       "      <td>49,99€</td>\n",
       "      <td>1</td>\n",
       "      <td>0</td>\n",
       "      <td>0</td>\n",
       "    </tr>\n",
       "    <tr>\n",
       "      <th>2</th>\n",
       "      <td>EA SPORTS FC™ 24</td>\n",
       "      <td>28 Sep, 2023</td>\n",
       "      <td>57</td>\n",
       "      <td>-50%</td>\n",
       "      <td>34,99€</td>\n",
       "      <td>69,99€</td>\n",
       "      <td>1</td>\n",
       "      <td>0</td>\n",
       "      <td>0</td>\n",
       "    </tr>\n",
       "    <tr>\n",
       "      <th>3</th>\n",
       "      <td>Hell Let Loose</td>\n",
       "      <td>27 Jul, 2021</td>\n",
       "      <td>84</td>\n",
       "      <td>-35%</td>\n",
       "      <td>29,24€</td>\n",
       "      <td>44,99€</td>\n",
       "      <td>1</td>\n",
       "      <td>0</td>\n",
       "      <td>0</td>\n",
       "    </tr>\n",
       "    <tr>\n",
       "      <th>4</th>\n",
       "      <td>Tom Clancy's Ghost Recon® Breakpoint</td>\n",
       "      <td>23 Jan, 2023</td>\n",
       "      <td>69</td>\n",
       "      <td>-80%</td>\n",
       "      <td>11,99€</td>\n",
       "      <td>59,99€</td>\n",
       "      <td>1</td>\n",
       "      <td>0</td>\n",
       "      <td>0</td>\n",
       "    </tr>\n",
       "    <tr>\n",
       "      <th>5</th>\n",
       "      <td>Cyberpunk 2077: Phantom Liberty</td>\n",
       "      <td>25 Sep, 2023</td>\n",
       "      <td>89</td>\n",
       "      <td>-15%</td>\n",
       "      <td>25,49€</td>\n",
       "      <td>29,99€</td>\n",
       "      <td>1</td>\n",
       "      <td>0</td>\n",
       "      <td>0</td>\n",
       "    </tr>\n",
       "    <tr>\n",
       "      <th>6</th>\n",
       "      <td>Tom Clancy's Rainbow Six® Siege</td>\n",
       "      <td>1 Dec, 2015</td>\n",
       "      <td>86</td>\n",
       "      <td>-60%</td>\n",
       "      <td>7,99€</td>\n",
       "      <td>19,99€</td>\n",
       "      <td>1</td>\n",
       "      <td>0</td>\n",
       "      <td>0</td>\n",
       "    </tr>\n",
       "    <tr>\n",
       "      <th>7</th>\n",
       "      <td>American Truck Simulator</td>\n",
       "      <td>2 Feb, 2016</td>\n",
       "      <td>96</td>\n",
       "      <td>-75%</td>\n",
       "      <td>4,99€</td>\n",
       "      <td>19,99€</td>\n",
       "      <td>1</td>\n",
       "      <td>1</td>\n",
       "      <td>1</td>\n",
       "    </tr>\n",
       "    <tr>\n",
       "      <th>8</th>\n",
       "      <td>Last Train Home</td>\n",
       "      <td>28 Nov, 2023</td>\n",
       "      <td>84</td>\n",
       "      <td>-15%</td>\n",
       "      <td>33,99€</td>\n",
       "      <td>39,99€</td>\n",
       "      <td>1</td>\n",
       "      <td>0</td>\n",
       "      <td>0</td>\n",
       "    </tr>\n",
       "    <tr>\n",
       "      <th>9</th>\n",
       "      <td>Ancestors Legacy</td>\n",
       "      <td>22 May, 2018</td>\n",
       "      <td>80</td>\n",
       "      <td>-90%</td>\n",
       "      <td>3,49€</td>\n",
       "      <td>34,99€</td>\n",
       "      <td>1</td>\n",
       "      <td>0</td>\n",
       "      <td>0</td>\n",
       "    </tr>\n",
       "    <tr>\n",
       "      <th>10</th>\n",
       "      <td>Warhammer 40,000: Darktide</td>\n",
       "      <td>30 Nov, 2022</td>\n",
       "      <td>65</td>\n",
       "      <td>-35%</td>\n",
       "      <td>25,99€</td>\n",
       "      <td>39,99€</td>\n",
       "      <td>1</td>\n",
       "      <td>0</td>\n",
       "      <td>0</td>\n",
       "    </tr>\n",
       "    <tr>\n",
       "      <th>11</th>\n",
       "      <td>Cyberpunk 2077 &amp; Phantom Liberty Bundle</td>\n",
       "      <td></td>\n",
       "      <td>82</td>\n",
       "      <td>-13%</td>\n",
       "      <td>78,64€</td>\n",
       "      <td>89,98€</td>\n",
       "      <td>1</td>\n",
       "      <td>0</td>\n",
       "      <td>0</td>\n",
       "    </tr>\n",
       "    <tr>\n",
       "      <th>12</th>\n",
       "      <td>Frostpunk</td>\n",
       "      <td>24 Apr, 2018</td>\n",
       "      <td>92</td>\n",
       "      <td>-80%</td>\n",
       "      <td>5,99€</td>\n",
       "      <td>29,99€</td>\n",
       "      <td>1</td>\n",
       "      <td>0</td>\n",
       "      <td>1</td>\n",
       "    </tr>\n",
       "    <tr>\n",
       "      <th>13</th>\n",
       "      <td>Dying Light</td>\n",
       "      <td>21 Apr, 2016</td>\n",
       "      <td>95</td>\n",
       "      <td>-80%</td>\n",
       "      <td>9,99€</td>\n",
       "      <td>49,99€</td>\n",
       "      <td>1</td>\n",
       "      <td>1</td>\n",
       "      <td>1</td>\n",
       "    </tr>\n",
       "    <tr>\n",
       "      <th>14</th>\n",
       "      <td>SnowRunner</td>\n",
       "      <td>17 May, 2021</td>\n",
       "      <td>89</td>\n",
       "      <td>-50%</td>\n",
       "      <td>14,99€</td>\n",
       "      <td>29,99€</td>\n",
       "      <td>1</td>\n",
       "      <td>0</td>\n",
       "      <td>1</td>\n",
       "    </tr>\n",
       "    <tr>\n",
       "      <th>15</th>\n",
       "      <td>Phasmophobia</td>\n",
       "      <td>18 Sep, 2020</td>\n",
       "      <td>96</td>\n",
       "      <td>-10%</td>\n",
       "      <td>10,43€</td>\n",
       "      <td>11,59€</td>\n",
       "      <td>1</td>\n",
       "      <td>0</td>\n",
       "      <td>0</td>\n",
       "    </tr>\n",
       "    <tr>\n",
       "      <th>16</th>\n",
       "      <td>Diplomacy is Not an Option</td>\n",
       "      <td>9 Feb, 2022</td>\n",
       "      <td>85</td>\n",
       "      <td>-20%</td>\n",
       "      <td>16,79€</td>\n",
       "      <td>20,99€</td>\n",
       "      <td>1</td>\n",
       "      <td>0</td>\n",
       "      <td>0</td>\n",
       "    </tr>\n",
       "    <tr>\n",
       "      <th>17</th>\n",
       "      <td>King Arthur: Knight's Tale</td>\n",
       "      <td>26 Apr, 2022</td>\n",
       "      <td>83</td>\n",
       "      <td>-60%</td>\n",
       "      <td>17,99€</td>\n",
       "      <td>44,99€</td>\n",
       "      <td>1</td>\n",
       "      <td>0</td>\n",
       "      <td>0</td>\n",
       "    </tr>\n",
       "    <tr>\n",
       "      <th>18</th>\n",
       "      <td>STAR WARS Jedi: Survivor™</td>\n",
       "      <td>27 Apr, 2023</td>\n",
       "      <td>65</td>\n",
       "      <td>-45%</td>\n",
       "      <td>38,49€</td>\n",
       "      <td>69,99€</td>\n",
       "      <td>1</td>\n",
       "      <td>0</td>\n",
       "      <td>0</td>\n",
       "    </tr>\n",
       "    <tr>\n",
       "      <th>19</th>\n",
       "      <td>Warhammer 40,000: Gladius - Relics of War</td>\n",
       "      <td>12 Jul, 2018</td>\n",
       "      <td>81</td>\n",
       "      <td>-90%</td>\n",
       "      <td>4,08€</td>\n",
       "      <td>40,86€</td>\n",
       "      <td>1</td>\n",
       "      <td>1</td>\n",
       "      <td>0</td>\n",
       "    </tr>\n",
       "    <tr>\n",
       "      <th>20</th>\n",
       "      <td>Metro Saga Bundle</td>\n",
       "      <td></td>\n",
       "      <td>89</td>\n",
       "      <td>-89%</td>\n",
       "      <td>9,07€</td>\n",
       "      <td>84,96€</td>\n",
       "      <td>1</td>\n",
       "      <td>0</td>\n",
       "      <td>0</td>\n",
       "    </tr>\n",
       "    <tr>\n",
       "      <th>21</th>\n",
       "      <td>Frostpunk: Game of the Year Edition</td>\n",
       "      <td></td>\n",
       "      <td>91</td>\n",
       "      <td>-80%</td>\n",
       "      <td>12,75€</td>\n",
       "      <td>64,96€</td>\n",
       "      <td>1</td>\n",
       "      <td>0</td>\n",
       "      <td>1</td>\n",
       "    </tr>\n",
       "    <tr>\n",
       "      <th>22</th>\n",
       "      <td>Ancestors Legacy - Complete Edition</td>\n",
       "      <td></td>\n",
       "      <td>80</td>\n",
       "      <td>-91%</td>\n",
       "      <td>5,00€</td>\n",
       "      <td>57,96€</td>\n",
       "      <td>1</td>\n",
       "      <td>0</td>\n",
       "      <td>0</td>\n",
       "    </tr>\n",
       "    <tr>\n",
       "      <th>23</th>\n",
       "      <td>A Plague Tale: Innocence</td>\n",
       "      <td>14 May, 2019</td>\n",
       "      <td>93</td>\n",
       "      <td>-80%</td>\n",
       "      <td>7,99€</td>\n",
       "      <td>39,99€</td>\n",
       "      <td>1</td>\n",
       "      <td>0</td>\n",
       "      <td>0</td>\n",
       "    </tr>\n",
       "    <tr>\n",
       "      <th>24</th>\n",
       "      <td>Hades</td>\n",
       "      <td>17 Sep, 2020</td>\n",
       "      <td>98</td>\n",
       "      <td>-50%</td>\n",
       "      <td>12,25€</td>\n",
       "      <td>24,50€</td>\n",
       "      <td>1</td>\n",
       "      <td>0</td>\n",
       "      <td>1</td>\n",
       "    </tr>\n",
       "    <tr>\n",
       "      <th>25</th>\n",
       "      <td>We Were Here Forever</td>\n",
       "      <td>10 May, 2022</td>\n",
       "      <td>91</td>\n",
       "      <td>-45%</td>\n",
       "      <td>9,89€</td>\n",
       "      <td>17,99€</td>\n",
       "      <td>1</td>\n",
       "      <td>0</td>\n",
       "      <td>0</td>\n",
       "    </tr>\n",
       "    <tr>\n",
       "      <th>26</th>\n",
       "      <td>Baltic Bundle</td>\n",
       "      <td></td>\n",
       "      <td>97</td>\n",
       "      <td>-73%</td>\n",
       "      <td>17,51€</td>\n",
       "      <td>65,96€</td>\n",
       "      <td>1</td>\n",
       "      <td>1</td>\n",
       "      <td>1</td>\n",
       "    </tr>\n",
       "    <tr>\n",
       "      <th>27</th>\n",
       "      <td>Inscryption</td>\n",
       "      <td>19 Oct, 2021</td>\n",
       "      <td>96</td>\n",
       "      <td>-50%</td>\n",
       "      <td>9,99€</td>\n",
       "      <td>19,99€</td>\n",
       "      <td>1</td>\n",
       "      <td>1</td>\n",
       "      <td>1</td>\n",
       "    </tr>\n",
       "    <tr>\n",
       "      <th>28</th>\n",
       "      <td>Dragon's Dogma: Dark Arisen</td>\n",
       "      <td>15 Jan, 2016</td>\n",
       "      <td>89</td>\n",
       "      <td>-84%</td>\n",
       "      <td>4,79€</td>\n",
       "      <td>29,99€</td>\n",
       "      <td>1</td>\n",
       "      <td>0</td>\n",
       "      <td>0</td>\n",
       "    </tr>\n",
       "    <tr>\n",
       "      <th>29</th>\n",
       "      <td>Mediterranean Bundle</td>\n",
       "      <td></td>\n",
       "      <td>97</td>\n",
       "      <td>-70%</td>\n",
       "      <td>22,27€</td>\n",
       "      <td>73,96€</td>\n",
       "      <td>1</td>\n",
       "      <td>1</td>\n",
       "      <td>1</td>\n",
       "    </tr>\n",
       "    <tr>\n",
       "      <th>30</th>\n",
       "      <td>Thief Simulator</td>\n",
       "      <td>9 Nov, 2018</td>\n",
       "      <td>88</td>\n",
       "      <td>-90%</td>\n",
       "      <td>1,95€</td>\n",
       "      <td>19,50€</td>\n",
       "      <td>1</td>\n",
       "      <td>0</td>\n",
       "      <td>1</td>\n",
       "    </tr>\n",
       "    <tr>\n",
       "      <th>31</th>\n",
       "      <td>Days Gone</td>\n",
       "      <td>17 May, 2021</td>\n",
       "      <td>92</td>\n",
       "      <td>-75%</td>\n",
       "      <td>12,49€</td>\n",
       "      <td>49,99€</td>\n",
       "      <td>1</td>\n",
       "      <td>0</td>\n",
       "      <td>0</td>\n",
       "    </tr>\n",
       "    <tr>\n",
       "      <th>32</th>\n",
       "      <td>Diablo® IV</td>\n",
       "      <td>17 Oct, 2023</td>\n",
       "      <td>68</td>\n",
       "      <td>-40%</td>\n",
       "      <td>41,99€</td>\n",
       "      <td>69,99€</td>\n",
       "      <td>1</td>\n",
       "      <td>0</td>\n",
       "      <td>0</td>\n",
       "    </tr>\n",
       "    <tr>\n",
       "      <th>33</th>\n",
       "      <td>Slime Rancher 2</td>\n",
       "      <td>22 Sep, 2022</td>\n",
       "      <td>94</td>\n",
       "      <td>-25%</td>\n",
       "      <td>21,36€</td>\n",
       "      <td>28,49€</td>\n",
       "      <td>1</td>\n",
       "      <td>0</td>\n",
       "      <td>0</td>\n",
       "    </tr>\n",
       "    <tr>\n",
       "      <th>34</th>\n",
       "      <td>Hogwarts Legacy</td>\n",
       "      <td>10 Feb, 2023</td>\n",
       "      <td>92</td>\n",
       "      <td>-40%</td>\n",
       "      <td>35,99€</td>\n",
       "      <td>59,99€</td>\n",
       "      <td>1</td>\n",
       "      <td>0</td>\n",
       "      <td>0</td>\n",
       "    </tr>\n",
       "    <tr>\n",
       "      <th>35</th>\n",
       "      <td>Metro Exodus</td>\n",
       "      <td>14 Feb, 2020</td>\n",
       "      <td>89</td>\n",
       "      <td>-80%</td>\n",
       "      <td>5,99€</td>\n",
       "      <td>29,99€</td>\n",
       "      <td>1</td>\n",
       "      <td>1</td>\n",
       "      <td>1</td>\n",
       "    </tr>\n",
       "    <tr>\n",
       "      <th>36</th>\n",
       "      <td>Euro Truck Simulator 2 - Beyond the Baltic Sea</td>\n",
       "      <td>29 Nov, 2018</td>\n",
       "      <td>91</td>\n",
       "      <td>-66%</td>\n",
       "      <td>6,11€</td>\n",
       "      <td>17,99€</td>\n",
       "      <td>1</td>\n",
       "      <td>1</td>\n",
       "      <td>1</td>\n",
       "    </tr>\n",
       "    <tr>\n",
       "      <th>37</th>\n",
       "      <td>Aliens: Fireteam Elite</td>\n",
       "      <td>23 Aug, 2021</td>\n",
       "      <td>81</td>\n",
       "      <td>-67%</td>\n",
       "      <td>9,89€</td>\n",
       "      <td>29,99€</td>\n",
       "      <td>1</td>\n",
       "      <td>0</td>\n",
       "      <td>0</td>\n",
       "    </tr>\n",
       "    <tr>\n",
       "      <th>38</th>\n",
       "      <td>Balkans Bundle</td>\n",
       "      <td></td>\n",
       "      <td>97</td>\n",
       "      <td>-58%</td>\n",
       "      <td>27,61€</td>\n",
       "      <td>65,96€</td>\n",
       "      <td>1</td>\n",
       "      <td>1</td>\n",
       "      <td>1</td>\n",
       "    </tr>\n",
       "    <tr>\n",
       "      <th>39</th>\n",
       "      <td>Car Mechanic Simulator 2021</td>\n",
       "      <td>11 Aug, 2021</td>\n",
       "      <td>96</td>\n",
       "      <td>-45%</td>\n",
       "      <td>13,47€</td>\n",
       "      <td>24,50€</td>\n",
       "      <td>1</td>\n",
       "      <td>0</td>\n",
       "      <td>0</td>\n",
       "    </tr>\n",
       "    <tr>\n",
       "      <th>40</th>\n",
       "      <td>Ghosts of Tabor</td>\n",
       "      <td>20 Mar, 2023</td>\n",
       "      <td>80</td>\n",
       "      <td>-10%</td>\n",
       "      <td>22,49€</td>\n",
       "      <td>24,99€</td>\n",
       "      <td>1</td>\n",
       "      <td>0</td>\n",
       "      <td>0</td>\n",
       "    </tr>\n",
       "    <tr>\n",
       "      <th>41</th>\n",
       "      <td>Jurassic World Evolution 2</td>\n",
       "      <td>9 Nov, 2021</td>\n",
       "      <td>87</td>\n",
       "      <td>-70%</td>\n",
       "      <td>17,99€</td>\n",
       "      <td>59,99€</td>\n",
       "      <td>1</td>\n",
       "      <td>0</td>\n",
       "      <td>0</td>\n",
       "    </tr>\n",
       "    <tr>\n",
       "      <th>42</th>\n",
       "      <td>CarX Drift Racing Online</td>\n",
       "      <td>17 Nov, 2017</td>\n",
       "      <td>95</td>\n",
       "      <td>-50%</td>\n",
       "      <td>7,39€</td>\n",
       "      <td>14,79€</td>\n",
       "      <td>1</td>\n",
       "      <td>0</td>\n",
       "      <td>0</td>\n",
       "    </tr>\n",
       "    <tr>\n",
       "      <th>43</th>\n",
       "      <td>The Exit 8</td>\n",
       "      <td>29 Nov, 2023</td>\n",
       "      <td>94</td>\n",
       "      <td>-10%</td>\n",
       "      <td>3,59€</td>\n",
       "      <td>3,99€</td>\n",
       "      <td>1</td>\n",
       "      <td>0</td>\n",
       "      <td>0</td>\n",
       "    </tr>\n",
       "    <tr>\n",
       "      <th>44</th>\n",
       "      <td>Sid Meier’s Civilization® VI</td>\n",
       "      <td>20 Oct, 2016</td>\n",
       "      <td>85</td>\n",
       "      <td>-90%</td>\n",
       "      <td>5,99€</td>\n",
       "      <td>59,99€</td>\n",
       "      <td>1</td>\n",
       "      <td>1</td>\n",
       "      <td>1</td>\n",
       "    </tr>\n",
       "    <tr>\n",
       "      <th>45</th>\n",
       "      <td>NBA 2K24</td>\n",
       "      <td>7 Sep, 2023</td>\n",
       "      <td>15</td>\n",
       "      <td>-55%</td>\n",
       "      <td>26,99€</td>\n",
       "      <td>59,99€</td>\n",
       "      <td>1</td>\n",
       "      <td>0</td>\n",
       "      <td>0</td>\n",
       "    </tr>\n",
       "    <tr>\n",
       "      <th>46</th>\n",
       "      <td>Euro Truck Simulator 2 - Scandinavia</td>\n",
       "      <td>14 May, 2015</td>\n",
       "      <td>95</td>\n",
       "      <td>-66%</td>\n",
       "      <td>6,11€</td>\n",
       "      <td>17,99€</td>\n",
       "      <td>1</td>\n",
       "      <td>1</td>\n",
       "      <td>1</td>\n",
       "    </tr>\n",
       "    <tr>\n",
       "      <th>47</th>\n",
       "      <td>Great Plains Calling! Bundle</td>\n",
       "      <td></td>\n",
       "      <td>89</td>\n",
       "      <td>-42%</td>\n",
       "      <td>52,27€</td>\n",
       "      <td>89,93€</td>\n",
       "      <td>1</td>\n",
       "      <td>1</td>\n",
       "      <td>1</td>\n",
       "    </tr>\n",
       "    <tr>\n",
       "      <th>48</th>\n",
       "      <td>A Plague Tale: Requiem</td>\n",
       "      <td>17 Oct, 2022</td>\n",
       "      <td>91</td>\n",
       "      <td>-55%</td>\n",
       "      <td>22,49€</td>\n",
       "      <td>49,99€</td>\n",
       "      <td>1</td>\n",
       "      <td>0</td>\n",
       "      <td>0</td>\n",
       "    </tr>\n",
       "    <tr>\n",
       "      <th>49</th>\n",
       "      <td>TEVI</td>\n",
       "      <td>29 Nov, 2023</td>\n",
       "      <td>92</td>\n",
       "      <td>-10%</td>\n",
       "      <td>26,09€</td>\n",
       "      <td>28,99€</td>\n",
       "      <td>1</td>\n",
       "      <td>0</td>\n",
       "      <td>0</td>\n",
       "    </tr>\n",
       "    <tr>\n",
       "      <th>50</th>\n",
       "      <td>Quasimorph</td>\n",
       "      <td>2 Oct, 2023</td>\n",
       "      <td>77</td>\n",
       "      <td>-10%</td>\n",
       "      <td>17,99€</td>\n",
       "      <td>19,99€</td>\n",
       "      <td>1</td>\n",
       "      <td>0</td>\n",
       "      <td>0</td>\n",
       "    </tr>\n",
       "    <tr>\n",
       "      <th>51</th>\n",
       "      <td>Medieval Dynasty</td>\n",
       "      <td>23 Sep, 2021</td>\n",
       "      <td>90</td>\n",
       "      <td>-25%</td>\n",
       "      <td>22,49€</td>\n",
       "      <td>29,99€</td>\n",
       "      <td>1</td>\n",
       "      <td>0</td>\n",
       "      <td>0</td>\n",
       "    </tr>\n",
       "    <tr>\n",
       "      <th>52</th>\n",
       "      <td>Apocalypse Party</td>\n",
       "      <td>30 Nov, 2023</td>\n",
       "      <td>71</td>\n",
       "      <td>-10%</td>\n",
       "      <td>8,99€</td>\n",
       "      <td>9,99€</td>\n",
       "      <td>1</td>\n",
       "      <td>0</td>\n",
       "      <td>0</td>\n",
       "    </tr>\n",
       "    <tr>\n",
       "      <th>53</th>\n",
       "      <td>Combat Mission Battle for Normandy Complete</td>\n",
       "      <td></td>\n",
       "      <td>79</td>\n",
       "      <td>-46%</td>\n",
       "      <td>89,39€</td>\n",
       "      <td>165,57€</td>\n",
       "      <td>1</td>\n",
       "      <td>0</td>\n",
       "      <td>0</td>\n",
       "    </tr>\n",
       "    <tr>\n",
       "      <th>54</th>\n",
       "      <td>Panzer Corps 2</td>\n",
       "      <td>19 Mar, 2020</td>\n",
       "      <td>84</td>\n",
       "      <td>-60%</td>\n",
       "      <td>15,59€</td>\n",
       "      <td>38,99€</td>\n",
       "      <td>1</td>\n",
       "      <td>0</td>\n",
       "      <td>0</td>\n",
       "    </tr>\n",
       "    <tr>\n",
       "      <th>55</th>\n",
       "      <td>Automobilista 2</td>\n",
       "      <td>30 Jun, 2020</td>\n",
       "      <td>91</td>\n",
       "      <td>-50%</td>\n",
       "      <td>18,49€</td>\n",
       "      <td>36,99€</td>\n",
       "      <td>1</td>\n",
       "      <td>1</td>\n",
       "      <td>0</td>\n",
       "    </tr>\n",
       "    <tr>\n",
       "      <th>56</th>\n",
       "      <td>Sid Meier’s Civilization® VI Anthology</td>\n",
       "      <td></td>\n",
       "      <td>84</td>\n",
       "      <td>-88%</td>\n",
       "      <td>24,89€</td>\n",
       "      <td>209,85€</td>\n",
       "      <td>1</td>\n",
       "      <td>0</td>\n",
       "      <td>1</td>\n",
       "    </tr>\n",
       "    <tr>\n",
       "      <th>57</th>\n",
       "      <td>Soulash 2</td>\n",
       "      <td>4 Dec, 2023</td>\n",
       "      <td>None</td>\n",
       "      <td>-10%</td>\n",
       "      <td>15,74€</td>\n",
       "      <td>17,49€</td>\n",
       "      <td>1</td>\n",
       "      <td>0</td>\n",
       "      <td>0</td>\n",
       "    </tr>\n",
       "    <tr>\n",
       "      <th>58</th>\n",
       "      <td>Drug Dealer Simulator</td>\n",
       "      <td>16 Apr, 2020</td>\n",
       "      <td>87</td>\n",
       "      <td>-81%</td>\n",
       "      <td>3,19€</td>\n",
       "      <td>16,79€</td>\n",
       "      <td>1</td>\n",
       "      <td>0</td>\n",
       "      <td>0</td>\n",
       "    </tr>\n",
       "    <tr>\n",
       "      <th>59</th>\n",
       "      <td>Slime Rancher &amp; Slime Rancher 2 Bundle</td>\n",
       "      <td></td>\n",
       "      <td>97</td>\n",
       "      <td>-53%</td>\n",
       "      <td>22,18€</td>\n",
       "      <td>47,48€</td>\n",
       "      <td>1</td>\n",
       "      <td>0</td>\n",
       "      <td>0</td>\n",
       "    </tr>\n",
       "    <tr>\n",
       "      <th>60</th>\n",
       "      <td>Euro Truck Simulator 2 - Iberia</td>\n",
       "      <td>8 Apr, 2021</td>\n",
       "      <td>76</td>\n",
       "      <td>-50%</td>\n",
       "      <td>8,99€</td>\n",
       "      <td>17,99€</td>\n",
       "      <td>1</td>\n",
       "      <td>1</td>\n",
       "      <td>1</td>\n",
       "    </tr>\n",
       "    <tr>\n",
       "      <th>61</th>\n",
       "      <td>Slime Rancher</td>\n",
       "      <td>1 Aug, 2017</td>\n",
       "      <td>97</td>\n",
       "      <td>-75%</td>\n",
       "      <td>4,74€</td>\n",
       "      <td>18,99€</td>\n",
       "      <td>1</td>\n",
       "      <td>1</td>\n",
       "      <td>1</td>\n",
       "    </tr>\n",
       "    <tr>\n",
       "      <th>62</th>\n",
       "      <td>Party Animals</td>\n",
       "      <td>20 Sep, 2023</td>\n",
       "      <td>74</td>\n",
       "      <td>-30%</td>\n",
       "      <td>12,59€</td>\n",
       "      <td>17,99€</td>\n",
       "      <td>1</td>\n",
       "      <td>0</td>\n",
       "      <td>0</td>\n",
       "    </tr>\n",
       "    <tr>\n",
       "      <th>63</th>\n",
       "      <td>PlateUp!</td>\n",
       "      <td>4 Aug, 2022</td>\n",
       "      <td>96</td>\n",
       "      <td>-50%</td>\n",
       "      <td>9,75€</td>\n",
       "      <td>19,50€</td>\n",
       "      <td>1</td>\n",
       "      <td>0</td>\n",
       "      <td>0</td>\n",
       "    </tr>\n",
       "    <tr>\n",
       "      <th>64</th>\n",
       "      <td>STAR WARS™ Jedi Bundle</td>\n",
       "      <td></td>\n",
       "      <td>83</td>\n",
       "      <td>-36%</td>\n",
       "      <td>70,63€</td>\n",
       "      <td>109,98€</td>\n",
       "      <td>1</td>\n",
       "      <td>0</td>\n",
       "      <td>0</td>\n",
       "    </tr>\n",
       "    <tr>\n",
       "      <th>65</th>\n",
       "      <td>Frostpunk: The Last Autumn</td>\n",
       "      <td>21 Jan, 2020</td>\n",
       "      <td>76</td>\n",
       "      <td>-65%</td>\n",
       "      <td>5,94€</td>\n",
       "      <td>16,99€</td>\n",
       "      <td>1</td>\n",
       "      <td>0</td>\n",
       "      <td>1</td>\n",
       "    </tr>\n",
       "    <tr>\n",
       "      <th>66</th>\n",
       "      <td>Thief Simulator 2</td>\n",
       "      <td>4 Oct, 2023</td>\n",
       "      <td>91</td>\n",
       "      <td>-12%</td>\n",
       "      <td>17,59€</td>\n",
       "      <td>19,99€</td>\n",
       "      <td>1</td>\n",
       "      <td>0</td>\n",
       "      <td>0</td>\n",
       "    </tr>\n",
       "    <tr>\n",
       "      <th>67</th>\n",
       "      <td>NEEDY STREAMER OVERLOAD</td>\n",
       "      <td>21 Jan, 2022</td>\n",
       "      <td>95</td>\n",
       "      <td>-50%</td>\n",
       "      <td>6,64€</td>\n",
       "      <td>13,29€</td>\n",
       "      <td>1</td>\n",
       "      <td>0</td>\n",
       "      <td>1</td>\n",
       "    </tr>\n",
       "    <tr>\n",
       "      <th>68</th>\n",
       "      <td>Volcanoids</td>\n",
       "      <td>29 Jan, 2019</td>\n",
       "      <td>84</td>\n",
       "      <td>-30%</td>\n",
       "      <td>11,75€</td>\n",
       "      <td>16,79€</td>\n",
       "      <td>1</td>\n",
       "      <td>1</td>\n",
       "      <td>0</td>\n",
       "    </tr>\n",
       "    <tr>\n",
       "      <th>69</th>\n",
       "      <td>Svarog's Dream</td>\n",
       "      <td>4 Dec, 2023</td>\n",
       "      <td>90</td>\n",
       "      <td>-15%</td>\n",
       "      <td>17,85€</td>\n",
       "      <td>21,00€</td>\n",
       "      <td>1</td>\n",
       "      <td>0</td>\n",
       "      <td>0</td>\n",
       "    </tr>\n",
       "    <tr>\n",
       "      <th>70</th>\n",
       "      <td>Euro Truck Simulator 2 - Going East!</td>\n",
       "      <td>19 Sep, 2013</td>\n",
       "      <td>91</td>\n",
       "      <td>-66%</td>\n",
       "      <td>3,39€</td>\n",
       "      <td>9,99€</td>\n",
       "      <td>1</td>\n",
       "      <td>1</td>\n",
       "      <td>1</td>\n",
       "    </tr>\n",
       "    <tr>\n",
       "      <th>71</th>\n",
       "      <td>Evil West</td>\n",
       "      <td>21 Nov, 2022</td>\n",
       "      <td>74</td>\n",
       "      <td>-60%</td>\n",
       "      <td>19,99€</td>\n",
       "      <td>49,99€</td>\n",
       "      <td>1</td>\n",
       "      <td>0</td>\n",
       "      <td>0</td>\n",
       "    </tr>\n",
       "    <tr>\n",
       "      <th>72</th>\n",
       "      <td>SteamWorld Build</td>\n",
       "      <td>1 Dec, 2023</td>\n",
       "      <td>75</td>\n",
       "      <td>-10%</td>\n",
       "      <td>26,99€</td>\n",
       "      <td>29,99€</td>\n",
       "      <td>1</td>\n",
       "      <td>0</td>\n",
       "      <td>0</td>\n",
       "    </tr>\n",
       "    <tr>\n",
       "      <th>73</th>\n",
       "      <td>HITMAN 3</td>\n",
       "      <td>20 Jan, 2022</td>\n",
       "      <td>85</td>\n",
       "      <td>-60%</td>\n",
       "      <td>27,99€</td>\n",
       "      <td>69,99€</td>\n",
       "      <td>1</td>\n",
       "      <td>0</td>\n",
       "      <td>0</td>\n",
       "    </tr>\n",
       "    <tr>\n",
       "      <th>74</th>\n",
       "      <td>The Forest</td>\n",
       "      <td>30 Apr, 2018</td>\n",
       "      <td>95</td>\n",
       "      <td>-75%</td>\n",
       "      <td>4,19€</td>\n",
       "      <td>16,79€</td>\n",
       "      <td>1</td>\n",
       "      <td>0</td>\n",
       "      <td>0</td>\n",
       "    </tr>\n",
       "    <tr>\n",
       "      <th>75</th>\n",
       "      <td>Cosmoteer: Starship Architect &amp; Commander</td>\n",
       "      <td>24 Oct, 2022</td>\n",
       "      <td>95</td>\n",
       "      <td>-20%</td>\n",
       "      <td>15,99€</td>\n",
       "      <td>19,99€</td>\n",
       "      <td>1</td>\n",
       "      <td>0</td>\n",
       "      <td>0</td>\n",
       "    </tr>\n",
       "    <tr>\n",
       "      <th>76</th>\n",
       "      <td>Combat Mission Battle for Normandy</td>\n",
       "      <td>28 Mar, 2023</td>\n",
       "      <td>79</td>\n",
       "      <td>-40%</td>\n",
       "      <td>36,51€</td>\n",
       "      <td>60,86€</td>\n",
       "      <td>1</td>\n",
       "      <td>0</td>\n",
       "      <td>0</td>\n",
       "    </tr>\n",
       "    <tr>\n",
       "      <th>77</th>\n",
       "      <td>Terra Nil</td>\n",
       "      <td>28 Mar, 2023</td>\n",
       "      <td>85</td>\n",
       "      <td>-30%</td>\n",
       "      <td>17,49€</td>\n",
       "      <td>24,99€</td>\n",
       "      <td>1</td>\n",
       "      <td>1</td>\n",
       "      <td>1</td>\n",
       "    </tr>\n",
       "    <tr>\n",
       "      <th>78</th>\n",
       "      <td>SnowRunner - 3-Year Anniversary Edition</td>\n",
       "      <td></td>\n",
       "      <td>88</td>\n",
       "      <td>-42%</td>\n",
       "      <td>60,87€</td>\n",
       "      <td>104,96€</td>\n",
       "      <td>1</td>\n",
       "      <td>0</td>\n",
       "      <td>1</td>\n",
       "    </tr>\n",
       "    <tr>\n",
       "      <th>79</th>\n",
       "      <td>Panzer Corps 2: Axis Operations - 1946</td>\n",
       "      <td>30 Nov, 2023</td>\n",
       "      <td>47</td>\n",
       "      <td>-10%</td>\n",
       "      <td>17,55€</td>\n",
       "      <td>19,50€</td>\n",
       "      <td>1</td>\n",
       "      <td>0</td>\n",
       "      <td>0</td>\n",
       "    </tr>\n",
       "    <tr>\n",
       "      <th>80</th>\n",
       "      <td>Kagura Games - Starter Pack 1</td>\n",
       "      <td></td>\n",
       "      <td>85</td>\n",
       "      <td>-69%</td>\n",
       "      <td>21,18€</td>\n",
       "      <td>69,25€</td>\n",
       "      <td>1</td>\n",
       "      <td>0</td>\n",
       "      <td>0</td>\n",
       "    </tr>\n",
       "    <tr>\n",
       "      <th>81</th>\n",
       "      <td>Green Hell</td>\n",
       "      <td>5 Sep, 2019</td>\n",
       "      <td>87</td>\n",
       "      <td>-40%</td>\n",
       "      <td>12,59€</td>\n",
       "      <td>20,99€</td>\n",
       "      <td>1</td>\n",
       "      <td>0</td>\n",
       "      <td>0</td>\n",
       "    </tr>\n",
       "    <tr>\n",
       "      <th>82</th>\n",
       "      <td>Destiny 2: The Witch Queen</td>\n",
       "      <td>22 Feb, 2022</td>\n",
       "      <td>73</td>\n",
       "      <td>-67%</td>\n",
       "      <td>9,89€</td>\n",
       "      <td>29,99€</td>\n",
       "      <td>1</td>\n",
       "      <td>0</td>\n",
       "      <td>0</td>\n",
       "    </tr>\n",
       "    <tr>\n",
       "      <th>83</th>\n",
       "      <td>Ghosts of Tabor Starter Pack Bundle</td>\n",
       "      <td></td>\n",
       "      <td>80</td>\n",
       "      <td>-24%</td>\n",
       "      <td>30,07€</td>\n",
       "      <td>39,78€</td>\n",
       "      <td>1</td>\n",
       "      <td>0</td>\n",
       "      <td>0</td>\n",
       "    </tr>\n",
       "    <tr>\n",
       "      <th>84</th>\n",
       "      <td>Euro Truck Simulator 2 - Road to the Black Sea</td>\n",
       "      <td>5 Dec, 2019</td>\n",
       "      <td>86</td>\n",
       "      <td>-66%</td>\n",
       "      <td>6,11€</td>\n",
       "      <td>17,99€</td>\n",
       "      <td>1</td>\n",
       "      <td>1</td>\n",
       "      <td>1</td>\n",
       "    </tr>\n",
       "    <tr>\n",
       "      <th>85</th>\n",
       "      <td>Warhammer: Vermintide 2</td>\n",
       "      <td>8 Mar, 2018</td>\n",
       "      <td>84</td>\n",
       "      <td>-80%</td>\n",
       "      <td>5,59€</td>\n",
       "      <td>27,99€</td>\n",
       "      <td>1</td>\n",
       "      <td>0</td>\n",
       "      <td>0</td>\n",
       "    </tr>\n",
       "    <tr>\n",
       "      <th>86</th>\n",
       "      <td>Warhammer 40,000: Boltgun</td>\n",
       "      <td>23 May, 2023</td>\n",
       "      <td>92</td>\n",
       "      <td>-32%</td>\n",
       "      <td>14,95€</td>\n",
       "      <td>21,99€</td>\n",
       "      <td>1</td>\n",
       "      <td>0</td>\n",
       "      <td>0</td>\n",
       "    </tr>\n",
       "    <tr>\n",
       "      <th>87</th>\n",
       "      <td>The Planet Crafter</td>\n",
       "      <td>24 Mar, 2022</td>\n",
       "      <td>96</td>\n",
       "      <td>-25%</td>\n",
       "      <td>14,62€</td>\n",
       "      <td>19,50€</td>\n",
       "      <td>1</td>\n",
       "      <td>0</td>\n",
       "      <td>0</td>\n",
       "    </tr>\n",
       "    <tr>\n",
       "      <th>88</th>\n",
       "      <td>Bad Boys Bundle</td>\n",
       "      <td></td>\n",
       "      <td>87</td>\n",
       "      <td>-87%</td>\n",
       "      <td>4,63€</td>\n",
       "      <td>36,29€</td>\n",
       "      <td>1</td>\n",
       "      <td>0</td>\n",
       "      <td>0</td>\n",
       "    </tr>\n",
       "    <tr>\n",
       "      <th>89</th>\n",
       "      <td>We Were Here Series</td>\n",
       "      <td></td>\n",
       "      <td>88</td>\n",
       "      <td>-37%</td>\n",
       "      <td>28,38€</td>\n",
       "      <td>44,96€</td>\n",
       "      <td>1</td>\n",
       "      <td>0</td>\n",
       "      <td>0</td>\n",
       "    </tr>\n",
       "    <tr>\n",
       "      <th>90</th>\n",
       "      <td>Workers &amp; Resources: Soviet Republic</td>\n",
       "      <td>15 Mar, 2019</td>\n",
       "      <td>92</td>\n",
       "      <td>-35%</td>\n",
       "      <td>25,99€</td>\n",
       "      <td>39,99€</td>\n",
       "      <td>1</td>\n",
       "      <td>0</td>\n",
       "      <td>0</td>\n",
       "    </tr>\n",
       "    <tr>\n",
       "      <th>91</th>\n",
       "      <td>Endzone - A World Apart</td>\n",
       "      <td>18 Mar, 2021</td>\n",
       "      <td>77</td>\n",
       "      <td>-80%</td>\n",
       "      <td>5,99€</td>\n",
       "      <td>29,99€</td>\n",
       "      <td>1</td>\n",
       "      <td>0</td>\n",
       "      <td>0</td>\n",
       "    </tr>\n",
       "    <tr>\n",
       "      <th>92</th>\n",
       "      <td>Endzone - A World Apart | Complete Edition</td>\n",
       "      <td></td>\n",
       "      <td>76</td>\n",
       "      <td>-67%</td>\n",
       "      <td>15,93€</td>\n",
       "      <td>47,97€</td>\n",
       "      <td>1</td>\n",
       "      <td>0</td>\n",
       "      <td>0</td>\n",
       "    </tr>\n",
       "    <tr>\n",
       "      <th>93</th>\n",
       "      <td>Dead Space</td>\n",
       "      <td>27 Jan, 2023</td>\n",
       "      <td>91</td>\n",
       "      <td>-55%</td>\n",
       "      <td>26,99€</td>\n",
       "      <td>59,99€</td>\n",
       "      <td>1</td>\n",
       "      <td>0</td>\n",
       "      <td>0</td>\n",
       "    </tr>\n",
       "    <tr>\n",
       "      <th>94</th>\n",
       "      <td>Construction Simulator</td>\n",
       "      <td>20 Sep, 2022</td>\n",
       "      <td>81</td>\n",
       "      <td>-35%</td>\n",
       "      <td>22,74€</td>\n",
       "      <td>34,99€</td>\n",
       "      <td>1</td>\n",
       "      <td>0</td>\n",
       "      <td>0</td>\n",
       "    </tr>\n",
       "    <tr>\n",
       "      <th>95</th>\n",
       "      <td>Frostpunk: On The Edge</td>\n",
       "      <td>20 Aug, 2020</td>\n",
       "      <td>44</td>\n",
       "      <td>-65%</td>\n",
       "      <td>4,54€</td>\n",
       "      <td>12,99€</td>\n",
       "      <td>1</td>\n",
       "      <td>0</td>\n",
       "      <td>1</td>\n",
       "    </tr>\n",
       "    <tr>\n",
       "      <th>96</th>\n",
       "      <td>Starfield</td>\n",
       "      <td>5 Sep, 2023</td>\n",
       "      <td>68</td>\n",
       "      <td>-30%</td>\n",
       "      <td>48,99€</td>\n",
       "      <td>69,99€</td>\n",
       "      <td>1</td>\n",
       "      <td>0</td>\n",
       "      <td>0</td>\n",
       "    </tr>\n",
       "    <tr>\n",
       "      <th>97</th>\n",
       "      <td>Plane Mechanic and Farmer</td>\n",
       "      <td></td>\n",
       "      <td>74</td>\n",
       "      <td>-55%</td>\n",
       "      <td>13,18€</td>\n",
       "      <td>29,49€</td>\n",
       "      <td>1</td>\n",
       "      <td>0</td>\n",
       "      <td>0</td>\n",
       "    </tr>\n",
       "    <tr>\n",
       "      <th>98</th>\n",
       "      <td>Elite Dangerous</td>\n",
       "      <td>2 Apr, 2015</td>\n",
       "      <td>76</td>\n",
       "      <td>-75%</td>\n",
       "      <td>6,24€</td>\n",
       "      <td>24,99€</td>\n",
       "      <td>1</td>\n",
       "      <td>0</td>\n",
       "      <td>0</td>\n",
       "    </tr>\n",
       "    <tr>\n",
       "      <th>99</th>\n",
       "      <td>Sea of Stars</td>\n",
       "      <td>28 Aug, 2023</td>\n",
       "      <td>88</td>\n",
       "      <td>-10%</td>\n",
       "      <td>30,59€</td>\n",
       "      <td>33,99€</td>\n",
       "      <td>1</td>\n",
       "      <td>0</td>\n",
       "      <td>0</td>\n",
       "    </tr>\n",
       "    <tr>\n",
       "      <th>100</th>\n",
       "      <td>Caves of Qud</td>\n",
       "      <td>15 Jul, 2015</td>\n",
       "      <td>95</td>\n",
       "      <td>-10%</td>\n",
       "      <td>15,11€</td>\n",
       "      <td>16,79€</td>\n",
       "      <td>1</td>\n",
       "      <td>1</td>\n",
       "      <td>1</td>\n",
       "    </tr>\n",
       "    <tr>\n",
       "      <th>101</th>\n",
       "      <td>The Witcher 3: Wild Hunt - Complete Edition</td>\n",
       "      <td>30 Aug, 2016</td>\n",
       "      <td>96</td>\n",
       "      <td>-75%</td>\n",
       "      <td>12,49€</td>\n",
       "      <td>49,99€</td>\n",
       "      <td>1</td>\n",
       "      <td>0</td>\n",
       "      <td>0</td>\n",
       "    </tr>\n",
       "    <tr>\n",
       "      <th>102</th>\n",
       "      <td>Sea of Stars + The Messenger Bundle</td>\n",
       "      <td></td>\n",
       "      <td>91</td>\n",
       "      <td>-40%</td>\n",
       "      <td>31,91€</td>\n",
       "      <td>53,49€</td>\n",
       "      <td>1</td>\n",
       "      <td>0</td>\n",
       "      <td>0</td>\n",
       "    </tr>\n",
       "    <tr>\n",
       "      <th>103</th>\n",
       "      <td>SUPERHOT VR</td>\n",
       "      <td>25 May, 2017</td>\n",
       "      <td>83</td>\n",
       "      <td>-60%</td>\n",
       "      <td>8,99€</td>\n",
       "      <td>22,49€</td>\n",
       "      <td>1</td>\n",
       "      <td>0</td>\n",
       "      <td>0</td>\n",
       "    </tr>\n",
       "    <tr>\n",
       "      <th>104</th>\n",
       "      <td>American Truck Simulator - Texas</td>\n",
       "      <td>15 Nov, 2022</td>\n",
       "      <td>86</td>\n",
       "      <td>-10%</td>\n",
       "      <td>16,19€</td>\n",
       "      <td>17,99€</td>\n",
       "      <td>1</td>\n",
       "      <td>1</td>\n",
       "      <td>1</td>\n",
       "    </tr>\n",
       "    <tr>\n",
       "      <th>105</th>\n",
       "      <td>BONEWORKS</td>\n",
       "      <td>10 Dec, 2019</td>\n",
       "      <td>92</td>\n",
       "      <td>-20%</td>\n",
       "      <td>23,19€</td>\n",
       "      <td>28,99€</td>\n",
       "      <td>1</td>\n",
       "      <td>0</td>\n",
       "      <td>0</td>\n",
       "    </tr>\n",
       "    <tr>\n",
       "      <th>106</th>\n",
       "      <td>PAYDAY 2</td>\n",
       "      <td>13 Aug, 2013</td>\n",
       "      <td>89</td>\n",
       "      <td>-50%</td>\n",
       "      <td>4,99€</td>\n",
       "      <td>9,99€</td>\n",
       "      <td>1</td>\n",
       "      <td>1</td>\n",
       "      <td>0</td>\n",
       "    </tr>\n",
       "    <tr>\n",
       "      <th>107</th>\n",
       "      <td>Outpath</td>\n",
       "      <td>16 Oct, 2023</td>\n",
       "      <td>96</td>\n",
       "      <td>-20%</td>\n",
       "      <td>11,83€</td>\n",
       "      <td>14,79€</td>\n",
       "      <td>1</td>\n",
       "      <td>0</td>\n",
       "      <td>0</td>\n",
       "    </tr>\n",
       "    <tr>\n",
       "      <th>108</th>\n",
       "      <td>Warhammer 40,000: Gladius - Adepta Sororitas</td>\n",
       "      <td>13 Dec, 2022</td>\n",
       "      <td>95</td>\n",
       "      <td>-20%</td>\n",
       "      <td>13,32€</td>\n",
       "      <td>16,66€</td>\n",
       "      <td>1</td>\n",
       "      <td>1</td>\n",
       "      <td>0</td>\n",
       "    </tr>\n",
       "    <tr>\n",
       "      <th>109</th>\n",
       "      <td>Dwarf Fortress</td>\n",
       "      <td>6 Dec, 2022</td>\n",
       "      <td>95</td>\n",
       "      <td>-10%</td>\n",
       "      <td>26,09€</td>\n",
       "      <td>28,99€</td>\n",
       "      <td>1</td>\n",
       "      <td>1</td>\n",
       "      <td>0</td>\n",
       "    </tr>\n",
       "    <tr>\n",
       "      <th>110</th>\n",
       "      <td>Keep Talking and Nobody Explodes</td>\n",
       "      <td>8 Oct, 2015</td>\n",
       "      <td>97</td>\n",
       "      <td>-70%</td>\n",
       "      <td>4,43€</td>\n",
       "      <td>14,79€</td>\n",
       "      <td>1</td>\n",
       "      <td>1</td>\n",
       "      <td>1</td>\n",
       "    </tr>\n",
       "    <tr>\n",
       "      <th>111</th>\n",
       "      <td>Deadly Bullets Bundle | Deadly Days + Orbital ...</td>\n",
       "      <td></td>\n",
       "      <td>86</td>\n",
       "      <td>-79%</td>\n",
       "      <td>5,97€</td>\n",
       "      <td>28,98€</td>\n",
       "      <td>1</td>\n",
       "      <td>0</td>\n",
       "      <td>0</td>\n",
       "    </tr>\n",
       "    <tr>\n",
       "      <th>112</th>\n",
       "      <td>I Expect You To Die Bundle</td>\n",
       "      <td></td>\n",
       "      <td>95</td>\n",
       "      <td>-37%</td>\n",
       "      <td>41,81€</td>\n",
       "      <td>66,48€</td>\n",
       "      <td>1</td>\n",
       "      <td>0</td>\n",
       "      <td>0</td>\n",
       "    </tr>\n",
       "    <tr>\n",
       "      <th>113</th>\n",
       "      <td>The Henry Stickmin Collection</td>\n",
       "      <td>7 Aug, 2020</td>\n",
       "      <td>98</td>\n",
       "      <td>-50%</td>\n",
       "      <td>6,99€</td>\n",
       "      <td>13,99€</td>\n",
       "      <td>1</td>\n",
       "      <td>0</td>\n",
       "      <td>1</td>\n",
       "    </tr>\n",
       "    <tr>\n",
       "      <th>114</th>\n",
       "      <td>Children of Morta</td>\n",
       "      <td>3 Sep, 2019</td>\n",
       "      <td>89</td>\n",
       "      <td>-75%</td>\n",
       "      <td>5,49€</td>\n",
       "      <td>21,99€</td>\n",
       "      <td>1</td>\n",
       "      <td>1</td>\n",
       "      <td>1</td>\n",
       "    </tr>\n",
       "    <tr>\n",
       "      <th>115</th>\n",
       "      <td>Euro Truck Simulator 2 - Vive la France !</td>\n",
       "      <td>5 Dec, 2016</td>\n",
       "      <td>92</td>\n",
       "      <td>-66%</td>\n",
       "      <td>6,11€</td>\n",
       "      <td>17,99€</td>\n",
       "      <td>1</td>\n",
       "      <td>1</td>\n",
       "      <td>1</td>\n",
       "    </tr>\n",
       "    <tr>\n",
       "      <th>116</th>\n",
       "      <td>Dead Cells</td>\n",
       "      <td>6 Aug, 2018</td>\n",
       "      <td>97</td>\n",
       "      <td>-40%</td>\n",
       "      <td>14,99€</td>\n",
       "      <td>24,99€</td>\n",
       "      <td>1</td>\n",
       "      <td>1</td>\n",
       "      <td>1</td>\n",
       "    </tr>\n",
       "    <tr>\n",
       "      <th>117</th>\n",
       "      <td>Soulash Series Bundle</td>\n",
       "      <td></td>\n",
       "      <td>74</td>\n",
       "      <td>-32%</td>\n",
       "      <td>21,79€</td>\n",
       "      <td>32,28€</td>\n",
       "      <td>1</td>\n",
       "      <td>0</td>\n",
       "      <td>0</td>\n",
       "    </tr>\n",
       "    <tr>\n",
       "      <th>118</th>\n",
       "      <td>The Witcher® 3: Wild Hunt</td>\n",
       "      <td>18 May, 2015</td>\n",
       "      <td>96</td>\n",
       "      <td>-75%</td>\n",
       "      <td>7,49€</td>\n",
       "      <td>29,99€</td>\n",
       "      <td>1</td>\n",
       "      <td>0</td>\n",
       "      <td>0</td>\n",
       "    </tr>\n",
       "    <tr>\n",
       "      <th>119</th>\n",
       "      <td>Megaquarium</td>\n",
       "      <td>13 Sep, 2018</td>\n",
       "      <td>94</td>\n",
       "      <td>-70%</td>\n",
       "      <td>7,35€</td>\n",
       "      <td>24,50€</td>\n",
       "      <td>1</td>\n",
       "      <td>1</td>\n",
       "      <td>1</td>\n",
       "    </tr>\n",
       "    <tr>\n",
       "      <th>120</th>\n",
       "      <td>Jusant</td>\n",
       "      <td>31 Oct, 2023</td>\n",
       "      <td>96</td>\n",
       "      <td>-20%</td>\n",
       "      <td>19,99€</td>\n",
       "      <td>24,99€</td>\n",
       "      <td>1</td>\n",
       "      <td>0</td>\n",
       "      <td>0</td>\n",
       "    </tr>\n",
       "    <tr>\n",
       "      <th>121</th>\n",
       "      <td>RAILGRADE</td>\n",
       "      <td>13 Oct, 2023</td>\n",
       "      <td>80</td>\n",
       "      <td>-25%</td>\n",
       "      <td>21,74€</td>\n",
       "      <td>28,99€</td>\n",
       "      <td>1</td>\n",
       "      <td>0</td>\n",
       "      <td>1</td>\n",
       "    </tr>\n",
       "    <tr>\n",
       "      <th>122</th>\n",
       "      <td>Car Mechanic Simulator 2018</td>\n",
       "      <td>28 Jul, 2017</td>\n",
       "      <td>91</td>\n",
       "      <td>-90%</td>\n",
       "      <td>1,95€</td>\n",
       "      <td>19,50€</td>\n",
       "      <td>1</td>\n",
       "      <td>0</td>\n",
       "      <td>1</td>\n",
       "    </tr>\n",
       "    <tr>\n",
       "      <th>123</th>\n",
       "      <td>Destiny 2: Bungie 30th Anniversary Pack</td>\n",
       "      <td>7 Dec, 2021</td>\n",
       "      <td>46</td>\n",
       "      <td>-75%</td>\n",
       "      <td>6,24€</td>\n",
       "      <td>24,99€</td>\n",
       "      <td>1</td>\n",
       "      <td>0</td>\n",
       "      <td>0</td>\n",
       "    </tr>\n",
       "    <tr>\n",
       "      <th>124</th>\n",
       "      <td>Aliens: Fireteam Elite - Pathogen Expansion</td>\n",
       "      <td>30 Aug, 2022</td>\n",
       "      <td>68</td>\n",
       "      <td>-60%</td>\n",
       "      <td>5,99€</td>\n",
       "      <td>14,99€</td>\n",
       "      <td>1</td>\n",
       "      <td>0</td>\n",
       "      <td>0</td>\n",
       "    </tr>\n",
       "  </tbody>\n",
       "</table>\n",
       "</div>"
      ],
      "text/plain": [
       "                                                  Game  Release date Rating  \\\n",
       "0                               Euro Truck Simulator 2  12 Oct, 2012     97   \n",
       "1                  Horizon Zero Dawn™ Complete Edition   7 Aug, 2020     87   \n",
       "2                                     EA SPORTS FC™ 24  28 Sep, 2023     57   \n",
       "3                                       Hell Let Loose  27 Jul, 2021     84   \n",
       "4                 Tom Clancy's Ghost Recon® Breakpoint  23 Jan, 2023     69   \n",
       "5                      Cyberpunk 2077: Phantom Liberty  25 Sep, 2023     89   \n",
       "6                      Tom Clancy's Rainbow Six® Siege   1 Dec, 2015     86   \n",
       "7                             American Truck Simulator   2 Feb, 2016     96   \n",
       "8                                      Last Train Home  28 Nov, 2023     84   \n",
       "9                                     Ancestors Legacy  22 May, 2018     80   \n",
       "10                          Warhammer 40,000: Darktide  30 Nov, 2022     65   \n",
       "11             Cyberpunk 2077 & Phantom Liberty Bundle                   82   \n",
       "12                                           Frostpunk  24 Apr, 2018     92   \n",
       "13                                         Dying Light  21 Apr, 2016     95   \n",
       "14                                          SnowRunner  17 May, 2021     89   \n",
       "15                                        Phasmophobia  18 Sep, 2020     96   \n",
       "16                          Diplomacy is Not an Option   9 Feb, 2022     85   \n",
       "17                          King Arthur: Knight's Tale  26 Apr, 2022     83   \n",
       "18                           STAR WARS Jedi: Survivor™  27 Apr, 2023     65   \n",
       "19           Warhammer 40,000: Gladius - Relics of War  12 Jul, 2018     81   \n",
       "20                                   Metro Saga Bundle                   89   \n",
       "21                 Frostpunk: Game of the Year Edition                   91   \n",
       "22                 Ancestors Legacy - Complete Edition                   80   \n",
       "23                            A Plague Tale: Innocence  14 May, 2019     93   \n",
       "24                                               Hades  17 Sep, 2020     98   \n",
       "25                                We Were Here Forever  10 May, 2022     91   \n",
       "26                                       Baltic Bundle                   97   \n",
       "27                                         Inscryption  19 Oct, 2021     96   \n",
       "28                         Dragon's Dogma: Dark Arisen  15 Jan, 2016     89   \n",
       "29                                Mediterranean Bundle                   97   \n",
       "30                                     Thief Simulator   9 Nov, 2018     88   \n",
       "31                                           Days Gone  17 May, 2021     92   \n",
       "32                                          Diablo® IV  17 Oct, 2023     68   \n",
       "33                                     Slime Rancher 2  22 Sep, 2022     94   \n",
       "34                                     Hogwarts Legacy  10 Feb, 2023     92   \n",
       "35                                        Metro Exodus  14 Feb, 2020     89   \n",
       "36      Euro Truck Simulator 2 - Beyond the Baltic Sea  29 Nov, 2018     91   \n",
       "37                              Aliens: Fireteam Elite  23 Aug, 2021     81   \n",
       "38                                      Balkans Bundle                   97   \n",
       "39                         Car Mechanic Simulator 2021  11 Aug, 2021     96   \n",
       "40                                     Ghosts of Tabor  20 Mar, 2023     80   \n",
       "41                          Jurassic World Evolution 2   9 Nov, 2021     87   \n",
       "42                            CarX Drift Racing Online  17 Nov, 2017     95   \n",
       "43                                          The Exit 8  29 Nov, 2023     94   \n",
       "44                        Sid Meier’s Civilization® VI  20 Oct, 2016     85   \n",
       "45                                            NBA 2K24   7 Sep, 2023     15   \n",
       "46                Euro Truck Simulator 2 - Scandinavia  14 May, 2015     95   \n",
       "47                        Great Plains Calling! Bundle                   89   \n",
       "48                              A Plague Tale: Requiem  17 Oct, 2022     91   \n",
       "49                                                TEVI  29 Nov, 2023     92   \n",
       "50                                          Quasimorph   2 Oct, 2023     77   \n",
       "51                                    Medieval Dynasty  23 Sep, 2021     90   \n",
       "52                                    Apocalypse Party  30 Nov, 2023     71   \n",
       "53         Combat Mission Battle for Normandy Complete                   79   \n",
       "54                                      Panzer Corps 2  19 Mar, 2020     84   \n",
       "55                                     Automobilista 2  30 Jun, 2020     91   \n",
       "56              Sid Meier’s Civilization® VI Anthology                   84   \n",
       "57                                           Soulash 2   4 Dec, 2023   None   \n",
       "58                               Drug Dealer Simulator  16 Apr, 2020     87   \n",
       "59              Slime Rancher & Slime Rancher 2 Bundle                   97   \n",
       "60                     Euro Truck Simulator 2 - Iberia   8 Apr, 2021     76   \n",
       "61                                       Slime Rancher   1 Aug, 2017     97   \n",
       "62                                       Party Animals  20 Sep, 2023     74   \n",
       "63                                            PlateUp!   4 Aug, 2022     96   \n",
       "64                              STAR WARS™ Jedi Bundle                   83   \n",
       "65                          Frostpunk: The Last Autumn  21 Jan, 2020     76   \n",
       "66                                   Thief Simulator 2   4 Oct, 2023     91   \n",
       "67                             NEEDY STREAMER OVERLOAD  21 Jan, 2022     95   \n",
       "68                                          Volcanoids  29 Jan, 2019     84   \n",
       "69                                      Svarog's Dream   4 Dec, 2023     90   \n",
       "70                Euro Truck Simulator 2 - Going East!  19 Sep, 2013     91   \n",
       "71                                           Evil West  21 Nov, 2022     74   \n",
       "72                                    SteamWorld Build   1 Dec, 2023     75   \n",
       "73                                            HITMAN 3  20 Jan, 2022     85   \n",
       "74                                          The Forest  30 Apr, 2018     95   \n",
       "75           Cosmoteer: Starship Architect & Commander  24 Oct, 2022     95   \n",
       "76                  Combat Mission Battle for Normandy  28 Mar, 2023     79   \n",
       "77                                           Terra Nil  28 Mar, 2023     85   \n",
       "78             SnowRunner - 3-Year Anniversary Edition                   88   \n",
       "79              Panzer Corps 2: Axis Operations - 1946  30 Nov, 2023     47   \n",
       "80                       Kagura Games - Starter Pack 1                   85   \n",
       "81                                          Green Hell   5 Sep, 2019     87   \n",
       "82                          Destiny 2: The Witch Queen  22 Feb, 2022     73   \n",
       "83                 Ghosts of Tabor Starter Pack Bundle                   80   \n",
       "84      Euro Truck Simulator 2 - Road to the Black Sea   5 Dec, 2019     86   \n",
       "85                             Warhammer: Vermintide 2   8 Mar, 2018     84   \n",
       "86                           Warhammer 40,000: Boltgun  23 May, 2023     92   \n",
       "87                                  The Planet Crafter  24 Mar, 2022     96   \n",
       "88                                     Bad Boys Bundle                   87   \n",
       "89                                 We Were Here Series                   88   \n",
       "90                Workers & Resources: Soviet Republic  15 Mar, 2019     92   \n",
       "91                             Endzone - A World Apart  18 Mar, 2021     77   \n",
       "92          Endzone - A World Apart | Complete Edition                   76   \n",
       "93                                          Dead Space  27 Jan, 2023     91   \n",
       "94                              Construction Simulator  20 Sep, 2022     81   \n",
       "95                              Frostpunk: On The Edge  20 Aug, 2020     44   \n",
       "96                                           Starfield   5 Sep, 2023     68   \n",
       "97                           Plane Mechanic and Farmer                   74   \n",
       "98                                     Elite Dangerous   2 Apr, 2015     76   \n",
       "99                                        Sea of Stars  28 Aug, 2023     88   \n",
       "100                                       Caves of Qud  15 Jul, 2015     95   \n",
       "101        The Witcher 3: Wild Hunt - Complete Edition  30 Aug, 2016     96   \n",
       "102                Sea of Stars + The Messenger Bundle                   91   \n",
       "103                                        SUPERHOT VR  25 May, 2017     83   \n",
       "104                   American Truck Simulator - Texas  15 Nov, 2022     86   \n",
       "105                                          BONEWORKS  10 Dec, 2019     92   \n",
       "106                                           PAYDAY 2  13 Aug, 2013     89   \n",
       "107                                            Outpath  16 Oct, 2023     96   \n",
       "108       Warhammer 40,000: Gladius - Adepta Sororitas  13 Dec, 2022     95   \n",
       "109                                     Dwarf Fortress   6 Dec, 2022     95   \n",
       "110                   Keep Talking and Nobody Explodes   8 Oct, 2015     97   \n",
       "111  Deadly Bullets Bundle | Deadly Days + Orbital ...                   86   \n",
       "112                         I Expect You To Die Bundle                   95   \n",
       "113                      The Henry Stickmin Collection   7 Aug, 2020     98   \n",
       "114                                  Children of Morta   3 Sep, 2019     89   \n",
       "115          Euro Truck Simulator 2 - Vive la France !   5 Dec, 2016     92   \n",
       "116                                         Dead Cells   6 Aug, 2018     97   \n",
       "117                              Soulash Series Bundle                   74   \n",
       "118                          The Witcher® 3: Wild Hunt  18 May, 2015     96   \n",
       "119                                        Megaquarium  13 Sep, 2018     94   \n",
       "120                                             Jusant  31 Oct, 2023     96   \n",
       "121                                          RAILGRADE  13 Oct, 2023     80   \n",
       "122                        Car Mechanic Simulator 2018  28 Jul, 2017     91   \n",
       "123            Destiny 2: Bungie 30th Anniversary Pack   7 Dec, 2021     46   \n",
       "124        Aliens: Fireteam Elite - Pathogen Expansion  30 Aug, 2022     68   \n",
       "\n",
       "    Sale %   Price Original price  Windows  Linux  Mac  \n",
       "0     -75%   4,99€         19,99€        1      1    1  \n",
       "1     -75%  12,49€         49,99€        1      0    0  \n",
       "2     -50%  34,99€         69,99€        1      0    0  \n",
       "3     -35%  29,24€         44,99€        1      0    0  \n",
       "4     -80%  11,99€         59,99€        1      0    0  \n",
       "5     -15%  25,49€         29,99€        1      0    0  \n",
       "6     -60%   7,99€         19,99€        1      0    0  \n",
       "7     -75%   4,99€         19,99€        1      1    1  \n",
       "8     -15%  33,99€         39,99€        1      0    0  \n",
       "9     -90%   3,49€         34,99€        1      0    0  \n",
       "10    -35%  25,99€         39,99€        1      0    0  \n",
       "11    -13%  78,64€         89,98€        1      0    0  \n",
       "12    -80%   5,99€         29,99€        1      0    1  \n",
       "13    -80%   9,99€         49,99€        1      1    1  \n",
       "14    -50%  14,99€         29,99€        1      0    1  \n",
       "15    -10%  10,43€         11,59€        1      0    0  \n",
       "16    -20%  16,79€         20,99€        1      0    0  \n",
       "17    -60%  17,99€         44,99€        1      0    0  \n",
       "18    -45%  38,49€         69,99€        1      0    0  \n",
       "19    -90%   4,08€         40,86€        1      1    0  \n",
       "20    -89%   9,07€         84,96€        1      0    0  \n",
       "21    -80%  12,75€         64,96€        1      0    1  \n",
       "22    -91%   5,00€         57,96€        1      0    0  \n",
       "23    -80%   7,99€         39,99€        1      0    0  \n",
       "24    -50%  12,25€         24,50€        1      0    1  \n",
       "25    -45%   9,89€         17,99€        1      0    0  \n",
       "26    -73%  17,51€         65,96€        1      1    1  \n",
       "27    -50%   9,99€         19,99€        1      1    1  \n",
       "28    -84%   4,79€         29,99€        1      0    0  \n",
       "29    -70%  22,27€         73,96€        1      1    1  \n",
       "30    -90%   1,95€         19,50€        1      0    1  \n",
       "31    -75%  12,49€         49,99€        1      0    0  \n",
       "32    -40%  41,99€         69,99€        1      0    0  \n",
       "33    -25%  21,36€         28,49€        1      0    0  \n",
       "34    -40%  35,99€         59,99€        1      0    0  \n",
       "35    -80%   5,99€         29,99€        1      1    1  \n",
       "36    -66%   6,11€         17,99€        1      1    1  \n",
       "37    -67%   9,89€         29,99€        1      0    0  \n",
       "38    -58%  27,61€         65,96€        1      1    1  \n",
       "39    -45%  13,47€         24,50€        1      0    0  \n",
       "40    -10%  22,49€         24,99€        1      0    0  \n",
       "41    -70%  17,99€         59,99€        1      0    0  \n",
       "42    -50%   7,39€         14,79€        1      0    0  \n",
       "43    -10%   3,59€          3,99€        1      0    0  \n",
       "44    -90%   5,99€         59,99€        1      1    1  \n",
       "45    -55%  26,99€         59,99€        1      0    0  \n",
       "46    -66%   6,11€         17,99€        1      1    1  \n",
       "47    -42%  52,27€         89,93€        1      1    1  \n",
       "48    -55%  22,49€         49,99€        1      0    0  \n",
       "49    -10%  26,09€         28,99€        1      0    0  \n",
       "50    -10%  17,99€         19,99€        1      0    0  \n",
       "51    -25%  22,49€         29,99€        1      0    0  \n",
       "52    -10%   8,99€          9,99€        1      0    0  \n",
       "53    -46%  89,39€        165,57€        1      0    0  \n",
       "54    -60%  15,59€         38,99€        1      0    0  \n",
       "55    -50%  18,49€         36,99€        1      1    0  \n",
       "56    -88%  24,89€        209,85€        1      0    1  \n",
       "57    -10%  15,74€         17,49€        1      0    0  \n",
       "58    -81%   3,19€         16,79€        1      0    0  \n",
       "59    -53%  22,18€         47,48€        1      0    0  \n",
       "60    -50%   8,99€         17,99€        1      1    1  \n",
       "61    -75%   4,74€         18,99€        1      1    1  \n",
       "62    -30%  12,59€         17,99€        1      0    0  \n",
       "63    -50%   9,75€         19,50€        1      0    0  \n",
       "64    -36%  70,63€        109,98€        1      0    0  \n",
       "65    -65%   5,94€         16,99€        1      0    1  \n",
       "66    -12%  17,59€         19,99€        1      0    0  \n",
       "67    -50%   6,64€         13,29€        1      0    1  \n",
       "68    -30%  11,75€         16,79€        1      1    0  \n",
       "69    -15%  17,85€         21,00€        1      0    0  \n",
       "70    -66%   3,39€          9,99€        1      1    1  \n",
       "71    -60%  19,99€         49,99€        1      0    0  \n",
       "72    -10%  26,99€         29,99€        1      0    0  \n",
       "73    -60%  27,99€         69,99€        1      0    0  \n",
       "74    -75%   4,19€         16,79€        1      0    0  \n",
       "75    -20%  15,99€         19,99€        1      0    0  \n",
       "76    -40%  36,51€         60,86€        1      0    0  \n",
       "77    -30%  17,49€         24,99€        1      1    1  \n",
       "78    -42%  60,87€        104,96€        1      0    1  \n",
       "79    -10%  17,55€         19,50€        1      0    0  \n",
       "80    -69%  21,18€         69,25€        1      0    0  \n",
       "81    -40%  12,59€         20,99€        1      0    0  \n",
       "82    -67%   9,89€         29,99€        1      0    0  \n",
       "83    -24%  30,07€         39,78€        1      0    0  \n",
       "84    -66%   6,11€         17,99€        1      1    1  \n",
       "85    -80%   5,59€         27,99€        1      0    0  \n",
       "86    -32%  14,95€         21,99€        1      0    0  \n",
       "87    -25%  14,62€         19,50€        1      0    0  \n",
       "88    -87%   4,63€         36,29€        1      0    0  \n",
       "89    -37%  28,38€         44,96€        1      0    0  \n",
       "90    -35%  25,99€         39,99€        1      0    0  \n",
       "91    -80%   5,99€         29,99€        1      0    0  \n",
       "92    -67%  15,93€         47,97€        1      0    0  \n",
       "93    -55%  26,99€         59,99€        1      0    0  \n",
       "94    -35%  22,74€         34,99€        1      0    0  \n",
       "95    -65%   4,54€         12,99€        1      0    1  \n",
       "96    -30%  48,99€         69,99€        1      0    0  \n",
       "97    -55%  13,18€         29,49€        1      0    0  \n",
       "98    -75%   6,24€         24,99€        1      0    0  \n",
       "99    -10%  30,59€         33,99€        1      0    0  \n",
       "100   -10%  15,11€         16,79€        1      1    1  \n",
       "101   -75%  12,49€         49,99€        1      0    0  \n",
       "102   -40%  31,91€         53,49€        1      0    0  \n",
       "103   -60%   8,99€         22,49€        1      0    0  \n",
       "104   -10%  16,19€         17,99€        1      1    1  \n",
       "105   -20%  23,19€         28,99€        1      0    0  \n",
       "106   -50%   4,99€          9,99€        1      1    0  \n",
       "107   -20%  11,83€         14,79€        1      0    0  \n",
       "108   -20%  13,32€         16,66€        1      1    0  \n",
       "109   -10%  26,09€         28,99€        1      1    0  \n",
       "110   -70%   4,43€         14,79€        1      1    1  \n",
       "111   -79%   5,97€         28,98€        1      0    0  \n",
       "112   -37%  41,81€         66,48€        1      0    0  \n",
       "113   -50%   6,99€         13,99€        1      0    1  \n",
       "114   -75%   5,49€         21,99€        1      1    1  \n",
       "115   -66%   6,11€         17,99€        1      1    1  \n",
       "116   -40%  14,99€         24,99€        1      1    1  \n",
       "117   -32%  21,79€         32,28€        1      0    0  \n",
       "118   -75%   7,49€         29,99€        1      0    0  \n",
       "119   -70%   7,35€         24,50€        1      1    1  \n",
       "120   -20%  19,99€         24,99€        1      0    0  \n",
       "121   -25%  21,74€         28,99€        1      0    1  \n",
       "122   -90%   1,95€         19,50€        1      0    1  \n",
       "123   -75%   6,24€         24,99€        1      0    0  \n",
       "124   -60%   5,99€         14,99€        1      0    0  "
      ]
     },
     "execution_count": 245,
     "metadata": {},
     "output_type": "execute_result"
    }
   ],
   "source": [
    "# 1. Data Scraping and Data Munging\n",
    "\n",
    "# Making an empty list to store the data\n",
    "data = []\n",
    "\n",
    "# Downloading the first 5 pages of the Steam data, looping through with page_num.\n",
    "for page_num in range(1, 6):\n",
    "\n",
    "    # Constructing the URL for steam search with page number\n",
    "    SEARCH_URL = f\"https://store.steampowered.com/search/?specials=1&page={page_num}\"\n",
    "    \n",
    "    # Sending an get request to the steam search URL\n",
    "    res = requests.get(SEARCH_URL)\n",
    "\n",
    "    # Parsing the HTML content of the response using BeautifulSoup\n",
    "    soup = BeautifulSoup(res.text, 'html.parser')\n",
    "\n",
    "    # Finding the container for search results, this is from where we get access to the game information later\n",
    "    games = soup.find('div', {'id': 'search_results'})\n",
    "\n",
    "    # Looping through the 25 games displayed per each page and collecting their information\n",
    "    for game in games.find_all('div', class_='responsive_search_name_combined')[:25]:\n",
    "\n",
    "        # Finding game title\n",
    "        title = game.find('span', class_='title').get_text(strip=True)\n",
    "\n",
    "        # Finding release date\n",
    "        release_date = game.find('div', class_='search_released').get_text(strip=True)\n",
    "\n",
    "        # Finding platforms\n",
    "        platform = game.findAll('span', class_='platform_img')\n",
    "        platforms = [platform['class'][-1] for platform in platform]\n",
    "\n",
    "        # Finding reviews, if-else statements to avoid errors if there isnt any reviews\n",
    "        reviews = game.find('span', class_='search_review_summary')\n",
    "        if reviews:\n",
    "            tooltip_html = reviews.get('data-tooltip-html', '')\n",
    "            review_start = tooltip_html.find('<br>') + len('<br>')\n",
    "            review_end = tooltip_html.find('%', review_start)\n",
    "            review = tooltip_html[review_start:review_end]\n",
    "        else:\n",
    "            review = None\n",
    "\n",
    "        # Finding sale percentage\n",
    "        sale_percentage = game.find('div', class_='discount_pct').get_text(strip=True)\n",
    "\n",
    "        # Finding original price\n",
    "        original_price = game.find('div', class_='discount_original_price').get_text(strip=True)\n",
    "\n",
    "        # Finding current price\n",
    "        current_price = game.find('div', class_='discount_final_price').get_text(strip=True)\n",
    "\n",
    "        # Checking if there is 'win', 'linux', or 'mac' in the platforms\n",
    "        windows_check = int('win' in platforms)\n",
    "        linux_check = int('linux' in platforms)\n",
    "        mac_check = int('mac' in platforms)\n",
    "\n",
    "        # Appending the data to the list\n",
    "        data.append([title, release_date, review, sale_percentage, current_price, original_price, windows_check, linux_check, mac_check])\n",
    "\n",
    "\n",
    "# Creating a pandas DataFrame to display the collected data\n",
    "columns = [\"Game\", \"Release date\", \"Rating\", \"Sale %\", \"Price\", \"Original price\", \"Windows\", \"Linux\", \"Mac\"]\n",
    "df = pd.DataFrame(data, columns=columns)\n",
    "\n",
    "# Setting the option to display all rows in the DataFrame\n",
    "pd.set_option('display.max_rows', None)\n",
    "\n",
    "csv_file_path = \"steam_data.csv\"\n",
    "if not os.path.exists(csv_file_path):\n",
    "    # If it does not exist, it creates the CSV file\n",
    "    df.to_csv(csv_file_path, index=False)\n",
    "else:\n",
    "    # If it exists, append the data to CSV file\n",
    "    df.to_csv(csv_file_path, mode='a', header=False, index=False)\n",
    "\n",
    "df"
   ]
  },
  {
   "cell_type": "code",
   "execution_count": 250,
   "metadata": {},
   "outputs": [
    {
     "data": {
      "text/html": [
       "<div data-panel='{\"maintainY\":true,\"bFocusRingRoot\":true,\"flow-children\":\"column\"}' id=\"search_resultsRows\">\n",
       "<!-- List Items -->\n",
       "<a class=\"search_result_row ds_collapse_flag\" data-ds-appid=\"333640\" data-ds-itemkey=\"App_333640\" data-ds-steam-deck-compat-handled=\"true\" data-ds-tagids=\"[493,599,492,4182,3964,454187,1716]\" data-gpnav=\"item\" data-search-page=\"5\" href=\"https://store.steampowered.com/app/333640/Caves_of_Qud/?snr=1_7_7_2300_150_5\" onmouseout=\"HideGameHover( this, event, 'global_hover' )\" onmouseover=\"GameHover( this, event, 'global_hover', {&quot;type&quot;:&quot;app&quot;,&quot;id&quot;:333640,&quot;public&quot;:1,&quot;v6&quot;:1} );\">\n",
       "<div class=\"col search_capsule\"><img src=\"https://cdn.akamai.steamstatic.com/steam/apps/333640/capsule_sm_120.jpg?t=1700073214\" srcset=\"https://cdn.akamai.steamstatic.com/steam/apps/333640/capsule_sm_120.jpg?t=1700073214 1x, https://cdn.akamai.steamstatic.com/steam/apps/333640/capsule_231x87.jpg?t=1700073214 2x\"/></div>\n",
       "<div class=\"responsive_search_name_combined\">\n",
       "<div class=\"col search_name ellipsis\">\n",
       "<span class=\"title\">Caves of Qud</span>\n",
       "<div>\n",
       "<span class=\"platform_img win\"></span><span class=\"platform_img mac\"></span><span class=\"platform_img linux\"></span> </div>\n",
       "</div>\n",
       "<div class=\"col search_released responsive_secondrow\">\r\n",
       "                    15 Jul, 2015                </div>\n",
       "<div class=\"col search_reviewscore responsive_secondrow\">\n",
       "<span class=\"search_review_summary positive\" data-tooltip-html=\"Overwhelmingly Positive&lt;br&gt;95% of the 6,130 user reviews for this game are positive.\">\n",
       "</span>\n",
       "</div>\n",
       "<div class=\"col search_price_discount_combined responsive_secondrow\" data-price-final=\"1511\">\n",
       "<div class=\"col search_discount_and_price responsive_secondrow\">\n",
       "<div class=\"discount_block search_discount_block\" data-bundlediscount=\"0\" data-discount=\"10\" data-price-final=\"1511\"><div class=\"discount_pct\">-10%</div><div class=\"discount_prices\"><div class=\"discount_original_price\">16,79€</div><div class=\"discount_final_price\">15,11€</div></div></div> </div>\n",
       "</div>\n",
       "</div>\n",
       "<div style=\"clear: left;\"></div>\n",
       "</a>\n",
       "<a class=\"search_result_row ds_collapse_flag\" data-ds-appid=\"292030,378649,378648\" data-ds-crtrids=\"[32989758,44387619,44153544]\" data-ds-descids=\"[1,5]\" data-ds-itemkey=\"Sub_124923\" data-ds-packageid=\"124923\" data-ds-steam-deck-compat-handled=\"true\" data-ds-tagids=\"[122,1695,1742,4166,5611,1684,21]\" data-gpnav=\"item\" data-search-page=\"5\" href=\"https://store.steampowered.com/sub/124923/?snr=1_7_7_2300_150_5\" onmouseout=\"HideGameHover( this, event, 'global_hover' )\" onmouseover=\"GameHover( this, event, 'global_hover', {&quot;type&quot;:&quot;sub&quot;,&quot;id&quot;:124923,&quot;public&quot;:1,&quot;v6&quot;:1} );\">\n",
       "<div class=\"col search_capsule\"><img src=\"https://cdn.akamai.steamstatic.com/steam/subs/124923/capsule_sm_120.jpg?t=1671055800\" srcset=\"https://cdn.akamai.steamstatic.com/steam/subs/124923/capsule_sm_120.jpg?t=1671055800 1x, https://cdn.akamai.steamstatic.com/steam/subs/124923/capsule_231x87.jpg?t=1671055800 2x\"/></div>\n",
       "<div class=\"responsive_search_name_combined\">\n",
       "<div class=\"col search_name ellipsis\">\n",
       "<span class=\"title\">The Witcher 3: Wild Hunt - Complete Edition</span>\n",
       "<div>\n",
       "<span class=\"platform_img win\"></span> </div>\n",
       "</div>\n",
       "<div class=\"col search_released responsive_secondrow\">\r\n",
       "                    30 Aug, 2016                </div>\n",
       "<div class=\"col search_reviewscore responsive_secondrow\">\n",
       "<span class=\"search_review_summary positive\" data-tooltip-html=\"Overwhelmingly Positive&lt;br&gt;96% of the 699,087 user reviews for games in this bundle are positive.&lt;br&gt;&lt;br&gt;This product has experienced one or more periods of off-topic review activity.  Based on your preferences, the reviews within these periods have been excluded from this product's Review Score.\">\n",
       "</span>\n",
       "</div>\n",
       "<div class=\"col search_price_discount_combined responsive_secondrow\" data-price-final=\"1249\">\n",
       "<div class=\"col search_discount_and_price responsive_secondrow\">\n",
       "<div class=\"discount_block search_discount_block\" data-bundlediscount=\"0\" data-discount=\"75\" data-price-final=\"1249\"><div class=\"discount_pct\">-75%</div><div class=\"discount_prices\"><div class=\"discount_original_price\">49,99€</div><div class=\"discount_final_price\">12,49€</div></div></div> </div>\n",
       "</div>\n",
       "</div>\n",
       "<div style=\"clear: left;\"></div>\n",
       "</a>\n",
       "<a class=\"search_result_row ds_collapse_flag\" data-ds-bundle-data='{\"m_nDiscountPct\":\"10\",\"m_bMustPurchaseAsSet\":0,\"m_rgItems\":[{\"m_nPackageID\":431745,\"m_rgIncludedAppIDs\":[1244090],\"m_bPackageDiscounted\":true,\"m_nBasePriceInCents\":3399,\"m_nFinalPriceInCents\":3059,\"m_nFinalPriceWithBundleDiscount\":2753},{\"m_nPackageID\":299722,\"m_rgIncludedAppIDs\":[764790],\"m_bPackageDiscounted\":true,\"m_nBasePriceInCents\":1950,\"m_nFinalPriceInCents\":487,\"m_nFinalPriceWithBundleDiscount\":438}],\"m_bIsCommercial\":false,\"m_bRestrictGifting\":true}' data-ds-bundleid=\"34153\" data-ds-crtrids=\"[33076244,6638525]\" data-ds-itemkey=\"Bundle_34153\" data-ds-steam-deck-compat-handled=\"true\" data-ds-tagids=\"[3964,4004,3871,122,1625,4325,1628]\" data-gpnav=\"item\" data-search-page=\"5\" href=\"https://store.steampowered.com/bundle/34153/Sea_of_Stars__The_Messenger_Bundle/?snr=1_7_7_2300_150_5\" onmouseout=\"HideGameHover( this, event, 'global_hover' )\" onmouseover=\"GameHover( this, event, 'global_hover', {&quot;type&quot;:&quot;bundle&quot;,&quot;id&quot;:34153,&quot;public&quot;:1,&quot;v6&quot;:1} );\">\n",
       "<div class=\"col search_capsule\"><img src=\"https://cdn.akamai.steamstatic.com/steam/bundles/34153/lzknqiqqdxc6cmzx/capsule_sm_120.jpg?t=1700500505\" srcset=\"https://cdn.akamai.steamstatic.com/steam/bundles/34153/lzknqiqqdxc6cmzx/capsule_sm_120.jpg?t=1700500505 1x, https://cdn.akamai.steamstatic.com/steam/bundles/34153/lzknqiqqdxc6cmzx/capsule_231x87.jpg?t=1700500505 2x\"/></div>\n",
       "<div class=\"responsive_search_name_combined\">\n",
       "<div class=\"col search_name ellipsis\">\n",
       "<span class=\"title\">Sea of Stars + The Messenger Bundle</span>\n",
       "<div>\n",
       "<span class=\"platform_img win\"></span> <span class=\"includes_games_results\">Includes 2 games</span>\n",
       "</div>\n",
       "</div>\n",
       "<div class=\"col search_released responsive_secondrow\">\n",
       "</div>\n",
       "<div class=\"col search_reviewscore responsive_secondrow\">\n",
       "<span class=\"search_review_summary positive\" data-tooltip-html=\"Very Positive&lt;br&gt;91% of the 13,194 user reviews for games in this bundle are positive.\">\n",
       "</span>\n",
       "</div>\n",
       "<div class=\"col search_price_discount_combined responsive_secondrow\" data-price-final=\"3191\">\n",
       "<div class=\"col search_discount_and_price responsive_secondrow\">\n",
       "<div class=\"discount_block search_discount_block\" data-bundlediscount=\"10\" data-discount=\"40\" data-price-final=\"3191\"><div class=\"bundle_base_discount\">-10%</div><div class=\"discount_pct\">-40%</div><div class=\"discount_prices\"><div class=\"discount_original_price\">53,49€</div><div class=\"discount_final_price\">31,91€</div></div></div> </div>\n",
       "</div>\n",
       "</div>\n",
       "<div style=\"clear: left;\"></div>\n",
       "</a>\n",
       "<a class=\"search_result_row ds_collapse_flag\" data-ds-appid=\"617830\" data-ds-crtrids=\"[35631053]\" data-ds-itemkey=\"App_617830\" data-ds-steam-deck-compat-handled=\"true\" data-ds-tagids=\"[21978,1774,5796,1663,1664,6625,3839]\" data-gpnav=\"item\" data-search-page=\"5\" href=\"https://store.steampowered.com/app/617830/SUPERHOT_VR/?snr=1_7_7_2300_150_5\" onmouseout=\"HideGameHover( this, event, 'global_hover' )\" onmouseover=\"GameHover( this, event, 'global_hover', {&quot;type&quot;:&quot;app&quot;,&quot;id&quot;:617830,&quot;public&quot;:1,&quot;v6&quot;:1} );\">\n",
       "<div class=\"col search_capsule\"><img src=\"https://cdn.akamai.steamstatic.com/steam/apps/617830/capsule_sm_120.jpg?t=1686050022\" srcset=\"https://cdn.akamai.steamstatic.com/steam/apps/617830/capsule_sm_120.jpg?t=1686050022 1x, https://cdn.akamai.steamstatic.com/steam/apps/617830/capsule_231x87.jpg?t=1686050022 2x\"/></div>\n",
       "<div class=\"responsive_search_name_combined\">\n",
       "<div class=\"col search_name ellipsis\">\n",
       "<span class=\"title\">SUPERHOT VR</span>\n",
       "<div>\n",
       "<span class=\"platform_img win\"></span><span class=\"vr_supported\">VR Supported</span> </div>\n",
       "</div>\n",
       "<div class=\"col search_released responsive_secondrow\">\r\n",
       "                    25 May, 2017                </div>\n",
       "<div class=\"col search_reviewscore responsive_secondrow\">\n",
       "<span class=\"search_review_summary positive\" data-tooltip-html=\"Very Positive&lt;br&gt;83% of the 6,642 user reviews for this game are positive.&lt;br&gt;&lt;br&gt;This product has experienced one or more periods of off-topic review activity.  Based on your preferences, the reviews within these periods have been excluded from this product's Review Score.\">\n",
       "</span>\n",
       "</div>\n",
       "<div class=\"col search_price_discount_combined responsive_secondrow\" data-price-final=\"899\">\n",
       "<div class=\"col search_discount_and_price responsive_secondrow\">\n",
       "<div class=\"discount_block search_discount_block\" data-bundlediscount=\"0\" data-discount=\"60\" data-price-final=\"899\"><div class=\"discount_pct\">-60%</div><div class=\"discount_prices\"><div class=\"discount_original_price\">22,49€</div><div class=\"discount_final_price\">8,99€</div></div></div> </div>\n",
       "</div>\n",
       "</div>\n",
       "<div style=\"clear: left;\"></div>\n",
       "</a>\n",
       "<a class=\"search_result_row ds_collapse_flag\" data-ds-appid=\"1465750\" data-ds-crtrids=\"[4036972]\" data-ds-itemkey=\"App_1465750\" data-ds-steam-deck-compat-handled=\"true\" data-ds-tagids=\"[599,492,1644,1695,3834]\" data-gpnav=\"item\" data-search-page=\"5\" href=\"https://store.steampowered.com/app/1465750/American_Truck_Simulator__Texas/?snr=1_7_7_2300_150_5\" onmouseout=\"HideGameHover( this, event, 'global_hover' )\" onmouseover=\"GameHover( this, event, 'global_hover', {&quot;type&quot;:&quot;app&quot;,&quot;id&quot;:1465750,&quot;public&quot;:1,&quot;v6&quot;:1} );\">\n",
       "<div class=\"col search_capsule\"><img src=\"https://cdn.akamai.steamstatic.com/steam/apps/1465750/capsule_sm_120.jpg?t=1696675570\" srcset=\"https://cdn.akamai.steamstatic.com/steam/apps/1465750/capsule_sm_120.jpg?t=1696675570 1x, https://cdn.akamai.steamstatic.com/steam/apps/1465750/capsule_231x87.jpg?t=1696675570 2x\"/></div>\n",
       "<div class=\"responsive_search_name_combined\">\n",
       "<div class=\"col search_name ellipsis\">\n",
       "<span class=\"title\">American Truck Simulator - Texas</span>\n",
       "<div>\n",
       "<span class=\"platform_img win\"></span><span class=\"platform_img mac\"></span><span class=\"platform_img linux\"></span> </div>\n",
       "</div>\n",
       "<div class=\"col search_released responsive_secondrow\">\r\n",
       "                    15 Nov, 2022                </div>\n",
       "<div class=\"col search_reviewscore responsive_secondrow\">\n",
       "<span class=\"search_review_summary positive\" data-tooltip-html=\"Very Positive&lt;br&gt;86% of the 564 user reviews for this game are positive.\">\n",
       "</span>\n",
       "</div>\n",
       "<div class=\"col search_price_discount_combined responsive_secondrow\" data-price-final=\"1619\">\n",
       "<div class=\"col search_discount_and_price responsive_secondrow\">\n",
       "<div class=\"discount_block search_discount_block\" data-bundlediscount=\"0\" data-discount=\"10\" data-price-final=\"1619\"><div class=\"discount_pct\">-10%</div><div class=\"discount_prices\"><div class=\"discount_original_price\">17,99€</div><div class=\"discount_final_price\">16,19€</div></div></div> </div>\n",
       "</div>\n",
       "</div>\n",
       "<div style=\"clear: left;\"></div>\n",
       "</a>\n",
       "<a class=\"search_result_row ds_collapse_flag\" data-ds-appid=\"823500\" data-ds-crtrids=\"[32973442]\" data-ds-descids=\"[2,5]\" data-ds-itemkey=\"App_823500\" data-ds-steam-deck-compat-handled=\"true\" data-ds-tagids=\"[21978,3968,19,3810,1774,4182,21]\" data-gpnav=\"item\" data-search-page=\"5\" href=\"https://store.steampowered.com/app/823500/BONEWORKS/?snr=1_7_7_2300_150_5\" onmouseout=\"HideGameHover( this, event, 'global_hover' )\" onmouseover=\"GameHover( this, event, 'global_hover', {&quot;type&quot;:&quot;app&quot;,&quot;id&quot;:823500,&quot;public&quot;:1,&quot;v6&quot;:1} );\">\n",
       "<div class=\"col search_capsule\"><img src=\"https://cdn.akamai.steamstatic.com/steam/apps/823500/capsule_sm_120.jpg?t=1581381377\" srcset=\"https://cdn.akamai.steamstatic.com/steam/apps/823500/capsule_sm_120.jpg?t=1581381377 1x, https://cdn.akamai.steamstatic.com/steam/apps/823500/capsule_231x87.jpg?t=1581381377 2x\"/></div>\n",
       "<div class=\"responsive_search_name_combined\">\n",
       "<div class=\"col search_name ellipsis\">\n",
       "<span class=\"title\">BONEWORKS</span>\n",
       "<div>\n",
       "<span class=\"platform_img win\"></span><span class=\"vr_required\">VR Only</span> </div>\n",
       "</div>\n",
       "<div class=\"col search_released responsive_secondrow\">\r\n",
       "                    10 Dec, 2019                </div>\n",
       "<div class=\"col search_reviewscore responsive_secondrow\">\n",
       "<span class=\"search_review_summary positive\" data-tooltip-html=\"Very Positive&lt;br&gt;92% of the 32,138 user reviews for this game are positive.\">\n",
       "</span>\n",
       "</div>\n",
       "<div class=\"col search_price_discount_combined responsive_secondrow\" data-price-final=\"2319\">\n",
       "<div class=\"col search_discount_and_price responsive_secondrow\">\n",
       "<div class=\"discount_block search_discount_block\" data-bundlediscount=\"0\" data-discount=\"20\" data-price-final=\"2319\"><div class=\"discount_pct\">-20%</div><div class=\"discount_prices\"><div class=\"discount_original_price\">28,99€</div><div class=\"discount_final_price\">23,19€</div></div></div> </div>\n",
       "</div>\n",
       "</div>\n",
       "<div style=\"clear: left;\"></div>\n",
       "</a>\n",
       "<a class=\"search_result_row ds_collapse_flag\" data-ds-appid=\"218620\" data-ds-crtrids=\"[32824912]\" data-ds-itemkey=\"App_218620\" data-ds-steam-deck-compat-handled=\"true\" data-ds-tagids=\"[1685,19,1663,1680,3859,353880,3843]\" data-gpnav=\"item\" data-search-page=\"5\" href=\"https://store.steampowered.com/app/218620/PAYDAY_2/?snr=1_7_7_2300_150_5\" onmouseout=\"HideGameHover( this, event, 'global_hover' )\" onmouseover=\"GameHover( this, event, 'global_hover', {&quot;type&quot;:&quot;app&quot;,&quot;id&quot;:218620,&quot;public&quot;:1,&quot;v6&quot;:1} );\">\n",
       "<div class=\"col search_capsule\"><img src=\"https://cdn.akamai.steamstatic.com/steam/apps/218620/capsule_sm_120_alt_assets_2.jpg?t=1701677653\" srcset=\"https://cdn.akamai.steamstatic.com/steam/apps/218620/capsule_sm_120_alt_assets_2.jpg?t=1701677653 1x, https://cdn.akamai.steamstatic.com/steam/apps/218620/capsule_231x87_alt_assets_2.jpg?t=1701677653 2x\"/></div>\n",
       "<div class=\"responsive_search_name_combined\">\n",
       "<div class=\"col search_name ellipsis\">\n",
       "<span class=\"title\">PAYDAY 2</span>\n",
       "<div>\n",
       "<span class=\"platform_img win\"></span><span class=\"platform_img linux\"></span><span class=\"vr_supported\">VR Supported</span> </div>\n",
       "</div>\n",
       "<div class=\"col search_released responsive_secondrow\">\r\n",
       "                    13 Aug, 2013                </div>\n",
       "<div class=\"col search_reviewscore responsive_secondrow\">\n",
       "<span class=\"search_review_summary positive\" data-tooltip-html=\"Very Positive&lt;br&gt;89% of the 421,272 user reviews for this game are positive.\">\n",
       "</span>\n",
       "</div>\n",
       "<div class=\"col search_price_discount_combined responsive_secondrow\" data-price-final=\"499\">\n",
       "<div class=\"col search_discount_and_price responsive_secondrow\">\n",
       "<div class=\"discount_block search_discount_block\" data-bundlediscount=\"0\" data-discount=\"50\" data-price-final=\"499\"><div class=\"discount_pct\">-50%</div><div class=\"discount_prices\"><div class=\"discount_original_price\">9,99€</div><div class=\"discount_final_price\">4,99€</div></div></div> </div>\n",
       "</div>\n",
       "</div>\n",
       "<div style=\"clear: left;\"></div>\n",
       "</a>\n",
       "<a class=\"search_result_row ds_collapse_flag\" data-ds-appid=\"2237970\" data-ds-crtrids=\"[44069238,33066823,43350649]\" data-ds-itemkey=\"App_2237970\" data-ds-steam-deck-compat-handled=\"true\" data-ds-tagids=\"[599,7332,1702,9,3964,3810,87918]\" data-gpnav=\"item\" data-search-page=\"5\" href=\"https://store.steampowered.com/app/2237970/Outpath/?snr=1_7_7_2300_150_5\" onmouseout=\"HideGameHover( this, event, 'global_hover' )\" onmouseover=\"GameHover( this, event, 'global_hover', {&quot;type&quot;:&quot;app&quot;,&quot;id&quot;:2237970,&quot;public&quot;:1,&quot;v6&quot;:1} );\">\n",
       "<div class=\"col search_capsule\"><img src=\"https://cdn.akamai.steamstatic.com/steam/apps/2237970/capsule_sm_120.jpg?t=1701467842\" srcset=\"https://cdn.akamai.steamstatic.com/steam/apps/2237970/capsule_sm_120.jpg?t=1701467842 1x, https://cdn.akamai.steamstatic.com/steam/apps/2237970/capsule_231x87.jpg?t=1701467842 2x\"/></div>\n",
       "<div class=\"responsive_search_name_combined\">\n",
       "<div class=\"col search_name ellipsis\">\n",
       "<span class=\"title\">Outpath</span>\n",
       "<div>\n",
       "<span class=\"platform_img win\"></span> </div>\n",
       "</div>\n",
       "<div class=\"col search_released responsive_secondrow\">\r\n",
       "                    16 Oct, 2023                </div>\n",
       "<div class=\"col search_reviewscore responsive_secondrow\">\n",
       "<span class=\"search_review_summary positive\" data-tooltip-html=\"Overwhelmingly Positive&lt;br&gt;96% of the 1,409 user reviews for this game are positive.\">\n",
       "</span>\n",
       "</div>\n",
       "<div class=\"col search_price_discount_combined responsive_secondrow\" data-price-final=\"1183\">\n",
       "<div class=\"col search_discount_and_price responsive_secondrow\">\n",
       "<div class=\"discount_block search_discount_block\" data-bundlediscount=\"0\" data-discount=\"20\" data-price-final=\"1183\"><div class=\"discount_pct\">-20%</div><div class=\"discount_prices\"><div class=\"discount_original_price\">14,79€</div><div class=\"discount_final_price\">11,83€</div></div></div> </div>\n",
       "</div>\n",
       "</div>\n",
       "<div style=\"clear: left;\"></div>\n",
       "</a>\n",
       "<a class=\"search_result_row ds_collapse_flag\" data-ds-appid=\"2130960\" data-ds-crtrids=\"[32939990,34274830]\" data-ds-itemkey=\"App_2130960\" data-ds-steam-deck-compat-handled=\"true\" data-ds-tagids=\"[9]\" data-gpnav=\"item\" data-search-page=\"5\" href=\"https://store.steampowered.com/app/2130960/Warhammer_40000_Gladius__Adepta_Sororitas/?snr=1_7_7_2300_150_5\" onmouseout=\"HideGameHover( this, event, 'global_hover' )\" onmouseover=\"GameHover( this, event, 'global_hover', {&quot;type&quot;:&quot;app&quot;,&quot;id&quot;:2130960,&quot;public&quot;:1,&quot;v6&quot;:1} );\">\n",
       "<div class=\"col search_capsule\"><img src=\"https://cdn.akamai.steamstatic.com/steam/apps/2130960/capsule_sm_120.jpg?t=1670950371\" srcset=\"https://cdn.akamai.steamstatic.com/steam/apps/2130960/capsule_sm_120.jpg?t=1670950371 1x, https://cdn.akamai.steamstatic.com/steam/apps/2130960/capsule_231x87.jpg?t=1670950371 2x\"/></div>\n",
       "<div class=\"responsive_search_name_combined\">\n",
       "<div class=\"col search_name ellipsis\">\n",
       "<span class=\"title\">Warhammer 40,000: Gladius - Adepta Sororitas</span>\n",
       "<div>\n",
       "<span class=\"platform_img win\"></span><span class=\"platform_img linux\"></span> </div>\n",
       "</div>\n",
       "<div class=\"col search_released responsive_secondrow\">\r\n",
       "                    13 Dec, 2022                </div>\n",
       "<div class=\"col search_reviewscore responsive_secondrow\">\n",
       "<span class=\"search_review_summary positive\" data-tooltip-html=\"Very Positive&lt;br&gt;95% of the 66 user reviews for this game are positive.\">\n",
       "</span>\n",
       "</div>\n",
       "<div class=\"col search_price_discount_combined responsive_secondrow\" data-price-final=\"1332\">\n",
       "<div class=\"col search_discount_and_price responsive_secondrow\">\n",
       "<div class=\"discount_block search_discount_block\" data-bundlediscount=\"0\" data-discount=\"20\" data-price-final=\"1332\"><div class=\"discount_pct\">-20%</div><div class=\"discount_prices\"><div class=\"discount_original_price\">16,66€</div><div class=\"discount_final_price\">13,32€</div></div></div> </div>\n",
       "</div>\n",
       "</div>\n",
       "<div style=\"clear: left;\"></div>\n",
       "</a>\n",
       "<a class=\"search_result_row ds_collapse_flag\" data-ds-appid=\"975370\" data-ds-crtrids=\"[6856791]\" data-ds-descids=\"[5]\" data-ds-itemkey=\"App_975370\" data-ds-steam-deck-compat-handled=\"true\" data-ds-tagids=\"[220585,492,3964,599,5125,4695,4328]\" data-gpnav=\"item\" data-search-page=\"5\" href=\"https://store.steampowered.com/app/975370/Dwarf_Fortress/?snr=1_7_7_2300_150_5\" onmouseout=\"HideGameHover( this, event, 'global_hover' )\" onmouseover=\"GameHover( this, event, 'global_hover', {&quot;type&quot;:&quot;app&quot;,&quot;id&quot;:975370,&quot;public&quot;:1,&quot;v6&quot;:1} );\">\n",
       "<div class=\"col search_capsule\"><img src=\"https://cdn.akamai.steamstatic.com/steam/apps/975370/capsule_sm_120.jpg?t=1697046135\" srcset=\"https://cdn.akamai.steamstatic.com/steam/apps/975370/capsule_sm_120.jpg?t=1697046135 1x, https://cdn.akamai.steamstatic.com/steam/apps/975370/capsule_231x87.jpg?t=1697046135 2x\"/></div>\n",
       "<div class=\"responsive_search_name_combined\">\n",
       "<div class=\"col search_name ellipsis\">\n",
       "<span class=\"title\">Dwarf Fortress</span>\n",
       "<div>\n",
       "<span class=\"platform_img win\"></span><span class=\"platform_img linux\"></span> </div>\n",
       "</div>\n",
       "<div class=\"col search_released responsive_secondrow\">\r\n",
       "                    6 Dec, 2022                </div>\n",
       "<div class=\"col search_reviewscore responsive_secondrow\">\n",
       "<span class=\"search_review_summary positive\" data-tooltip-html=\"Overwhelmingly Positive&lt;br&gt;95% of the 22,460 user reviews for this game are positive.\">\n",
       "</span>\n",
       "</div>\n",
       "<div class=\"col search_price_discount_combined responsive_secondrow\" data-price-final=\"2609\">\n",
       "<div class=\"col search_discount_and_price responsive_secondrow\">\n",
       "<div class=\"discount_block search_discount_block\" data-bundlediscount=\"0\" data-discount=\"10\" data-price-final=\"2609\"><div class=\"discount_pct\">-10%</div><div class=\"discount_prices\"><div class=\"discount_original_price\">28,99€</div><div class=\"discount_final_price\">26,09€</div></div></div> </div>\n",
       "</div>\n",
       "</div>\n",
       "<div style=\"clear: left;\"></div>\n",
       "</a>\n",
       "<a class=\"search_result_row ds_collapse_flag\" data-ds-appid=\"341800\" data-ds-crtrids=\"[33697841]\" data-ds-itemkey=\"App_341800\" data-ds-steam-deck-compat-handled=\"true\" data-ds-tagids=\"[1685,1664,3841,3859,21978,492,7368]\" data-gpnav=\"item\" data-search-page=\"5\" href=\"https://store.steampowered.com/app/341800/Keep_Talking_and_Nobody_Explodes/?snr=1_7_7_2300_150_5\" onmouseout=\"HideGameHover( this, event, 'global_hover' )\" onmouseover=\"GameHover( this, event, 'global_hover', {&quot;type&quot;:&quot;app&quot;,&quot;id&quot;:341800,&quot;public&quot;:1,&quot;v6&quot;:1} );\">\n",
       "<div class=\"col search_capsule\"><img src=\"https://cdn.akamai.steamstatic.com/steam/apps/341800/capsule_sm_120.jpg?t=1699020889\" srcset=\"https://cdn.akamai.steamstatic.com/steam/apps/341800/capsule_sm_120.jpg?t=1699020889 1x, https://cdn.akamai.steamstatic.com/steam/apps/341800/capsule_231x87.jpg?t=1699020889 2x\"/></div>\n",
       "<div class=\"responsive_search_name_combined\">\n",
       "<div class=\"col search_name ellipsis\">\n",
       "<span class=\"title\">Keep Talking and Nobody Explodes</span>\n",
       "<div>\n",
       "<span class=\"platform_img win\"></span><span class=\"platform_img mac\"></span><span class=\"platform_img linux\"></span><span class=\"vr_supported\">VR Supported</span> </div>\n",
       "</div>\n",
       "<div class=\"col search_released responsive_secondrow\">\r\n",
       "                    8 Oct, 2015                </div>\n",
       "<div class=\"col search_reviewscore responsive_secondrow\">\n",
       "<span class=\"search_review_summary positive\" data-tooltip-html=\"Overwhelmingly Positive&lt;br&gt;97% of the 10,653 user reviews for this game are positive.\">\n",
       "</span>\n",
       "</div>\n",
       "<div class=\"col search_price_discount_combined responsive_secondrow\" data-price-final=\"443\">\n",
       "<div class=\"col search_discount_and_price responsive_secondrow\">\n",
       "<div class=\"discount_block search_discount_block\" data-bundlediscount=\"0\" data-discount=\"70\" data-price-final=\"443\"><div class=\"discount_pct\">-70%</div><div class=\"discount_prices\"><div class=\"discount_original_price\">14,79€</div><div class=\"discount_final_price\">4,43€</div></div></div> </div>\n",
       "</div>\n",
       "</div>\n",
       "<div style=\"clear: left;\"></div>\n",
       "</a>\n",
       "<a class=\"search_result_row ds_collapse_flag\" data-ds-bundle-data='{\"m_nDiscountPct\":\"10\",\"m_bMustPurchaseAsSet\":0,\"m_rgItems\":[{\"m_nPackageID\":216698,\"m_rgIncludedAppIDs\":[740080],\"m_bPackageDiscounted\":true,\"m_nBasePriceInCents\":1199,\"m_nFinalPriceInCents\":239,\"m_nFinalPriceWithBundleDiscount\":215},{\"m_nPackageID\":398989,\"m_rgIncludedAppIDs\":[1167680],\"m_bPackageDiscounted\":true,\"m_nBasePriceInCents\":1699,\"m_nFinalPriceInCents\":424,\"m_nFinalPriceWithBundleDiscount\":382}],\"m_bIsCommercial\":false,\"m_bRestrictGifting\":true}' data-ds-bundleid=\"20981\" data-ds-crtrids=\"[33868857,33038208,33182515]\" data-ds-itemkey=\"Bundle_20981\" data-ds-steam-deck-compat-handled=\"true\" data-ds-tagids=\"[19,492,42804,3964,1625,3959,1716]\" data-gpnav=\"item\" data-search-page=\"5\" href=\"https://store.steampowered.com/bundle/20981/Deadly_Bullets_Bundle__Deadly_Days__Orbital_Bullet/?snr=1_7_7_2300_150_5\" onmouseout=\"HideGameHover( this, event, 'global_hover' )\" onmouseover=\"GameHover( this, event, 'global_hover', {&quot;type&quot;:&quot;bundle&quot;,&quot;id&quot;:20981,&quot;public&quot;:1,&quot;v6&quot;:1} );\">\n",
       "<div class=\"col search_capsule\"><img src=\"https://cdn.akamai.steamstatic.com/steam/bundles/20981/4i8bxbbpod6ruhqu/capsule_sm_120.jpg?t=1635349802\" srcset=\"https://cdn.akamai.steamstatic.com/steam/bundles/20981/4i8bxbbpod6ruhqu/capsule_sm_120.jpg?t=1635349802 1x, https://cdn.akamai.steamstatic.com/steam/bundles/20981/4i8bxbbpod6ruhqu/capsule_231x87.jpg?t=1635349802 2x\"/></div>\n",
       "<div class=\"responsive_search_name_combined\">\n",
       "<div class=\"col search_name ellipsis\">\n",
       "<span class=\"title\">Deadly Bullets Bundle | Deadly Days + Orbital Bullet</span>\n",
       "<div>\n",
       "<span class=\"platform_img win\"></span> <span class=\"includes_games_results\">Includes 2 games</span>\n",
       "</div>\n",
       "</div>\n",
       "<div class=\"col search_released responsive_secondrow\">\n",
       "</div>\n",
       "<div class=\"col search_reviewscore responsive_secondrow\">\n",
       "<span class=\"search_review_summary positive\" data-tooltip-html=\"Very Positive&lt;br&gt;86% of the 1,230 user reviews for games in this bundle are positive.\">\n",
       "</span>\n",
       "</div>\n",
       "<div class=\"col search_price_discount_combined responsive_secondrow\" data-price-final=\"597\">\n",
       "<div class=\"col search_discount_and_price responsive_secondrow\">\n",
       "<div class=\"discount_block search_discount_block\" data-bundlediscount=\"10\" data-discount=\"79\" data-price-final=\"597\"><div class=\"bundle_base_discount\">-10%</div><div class=\"discount_pct\">-79%</div><div class=\"discount_prices\"><div class=\"discount_original_price\">28,98€</div><div class=\"discount_final_price\">5,97€</div></div></div> </div>\n",
       "</div>\n",
       "</div>\n",
       "<div style=\"clear: left;\"></div>\n",
       "</a>\n",
       "<a class=\"search_result_row ds_collapse_flag\" data-ds-bundle-data='{\"m_nDiscountPct\":\"10\",\"m_bMustPurchaseAsSet\":0,\"m_rgItems\":[{\"m_nPackageID\":151858,\"m_rgIncludedAppIDs\":[587430],\"m_bPackageDiscounted\":true,\"m_nBasePriceInCents\":2099,\"m_nFinalPriceInCents\":1343,\"m_nFinalPriceWithBundleDiscount\":1209},{\"m_nPackageID\":528457,\"m_rgIncludedAppIDs\":[1499120],\"m_bPackageDiscounted\":true,\"m_nBasePriceInCents\":2099,\"m_nFinalPriceInCents\":1343,\"m_nFinalPriceWithBundleDiscount\":1209},{\"m_nPackageID\":823998,\"m_rgIncludedAppIDs\":[2296380],\"m_bPackageDiscounted\":true,\"m_nBasePriceInCents\":2450,\"m_nFinalPriceInCents\":1960,\"m_nFinalPriceWithBundleDiscount\":1764}],\"m_bIsCommercial\":false,\"m_bRestrictGifting\":true}' data-ds-bundleid=\"29857\" data-ds-crtrids=\"[33528044,44728275]\" data-ds-itemkey=\"Bundle_29857\" data-ds-steam-deck-compat-handled=\"true\" data-ds-tagids=\"[1664,21978,19,3839,599,21,4252]\" data-gpnav=\"item\" data-search-page=\"5\" href=\"https://store.steampowered.com/bundle/29857/I_Expect_You_To_Die_Bundle/?snr=1_7_7_2300_150_5\" onmouseout=\"HideGameHover( this, event, 'global_hover' )\" onmouseover=\"GameHover( this, event, 'global_hover', {&quot;type&quot;:&quot;bundle&quot;,&quot;id&quot;:29857,&quot;public&quot;:1,&quot;v6&quot;:1} );\">\n",
       "<div class=\"col search_capsule\"><img src=\"https://cdn.akamai.steamstatic.com/steam/bundles/29857/jkit4zbomqzy6jfb/capsule_sm_120.jpg?t=1700683756\" srcset=\"https://cdn.akamai.steamstatic.com/steam/bundles/29857/jkit4zbomqzy6jfb/capsule_sm_120.jpg?t=1700683756 1x, https://cdn.akamai.steamstatic.com/steam/bundles/29857/jkit4zbomqzy6jfb/capsule_231x87.jpg?t=1700683756 2x\"/></div>\n",
       "<div class=\"responsive_search_name_combined\">\n",
       "<div class=\"col search_name ellipsis\">\n",
       "<span class=\"title\">I Expect You To Die Bundle</span>\n",
       "<div>\n",
       "<span class=\"platform_img win\"></span> <span class=\"includes_games_results\">Includes 3 games</span>\n",
       "</div>\n",
       "</div>\n",
       "<div class=\"col search_released responsive_secondrow\">\n",
       "</div>\n",
       "<div class=\"col search_reviewscore responsive_secondrow\">\n",
       "<span class=\"search_review_summary positive\" data-tooltip-html=\"Overwhelmingly Positive&lt;br&gt;95% of the 3,184 user reviews for games in this bundle are positive.\">\n",
       "</span>\n",
       "</div>\n",
       "<div class=\"col search_price_discount_combined responsive_secondrow\" data-price-final=\"4182\">\n",
       "<div class=\"col search_discount_and_price responsive_secondrow\">\n",
       "<div class=\"discount_block search_discount_block\" data-bundlediscount=\"10\" data-discount=\"37\" data-price-final=\"4181\"><div class=\"bundle_base_discount\">-10%</div><div class=\"discount_pct\">-37%</div><div class=\"discount_prices\"><div class=\"discount_original_price\">66,48€</div><div class=\"discount_final_price\">41,81€</div></div></div> </div>\n",
       "</div>\n",
       "</div>\n",
       "<div style=\"clear: left;\"></div>\n",
       "</a>\n",
       "<a class=\"search_result_row ds_collapse_flag\" data-ds-appid=\"1089980\" data-ds-crtrids=\"[37686237]\" data-ds-itemkey=\"App_1089980\" data-ds-steam-deck-compat-handled=\"true\" data-ds-tagids=\"[4136,6971,4486,10397,1719,4182,1693]\" data-gpnav=\"item\" data-search-page=\"5\" href=\"https://store.steampowered.com/app/1089980/The_Henry_Stickmin_Collection/?snr=1_7_7_2300_150_5\" onmouseout=\"HideGameHover( this, event, 'global_hover' )\" onmouseover=\"GameHover( this, event, 'global_hover', {&quot;type&quot;:&quot;app&quot;,&quot;id&quot;:1089980,&quot;public&quot;:1,&quot;v6&quot;:1} );\">\n",
       "<div class=\"col search_capsule\"><img src=\"https://cdn.akamai.steamstatic.com/steam/apps/1089980/capsule_sm_120.jpg?t=1619212064\" srcset=\"https://cdn.akamai.steamstatic.com/steam/apps/1089980/capsule_sm_120.jpg?t=1619212064 1x, https://cdn.akamai.steamstatic.com/steam/apps/1089980/capsule_231x87.jpg?t=1619212064 2x\"/></div>\n",
       "<div class=\"responsive_search_name_combined\">\n",
       "<div class=\"col search_name ellipsis\">\n",
       "<span class=\"title\">The Henry Stickmin Collection</span>\n",
       "<div>\n",
       "<span class=\"platform_img win\"></span><span class=\"platform_img mac\"></span> </div>\n",
       "</div>\n",
       "<div class=\"col search_released responsive_secondrow\">\r\n",
       "                    7 Aug, 2020                </div>\n",
       "<div class=\"col search_reviewscore responsive_secondrow\">\n",
       "<span class=\"search_review_summary positive\" data-tooltip-html=\"Overwhelmingly Positive&lt;br&gt;98% of the 38,439 user reviews for this game are positive.\">\n",
       "</span>\n",
       "</div>\n",
       "<div class=\"col search_price_discount_combined responsive_secondrow\" data-price-final=\"699\">\n",
       "<div class=\"col search_discount_and_price responsive_secondrow\">\n",
       "<div class=\"discount_block search_discount_block\" data-bundlediscount=\"0\" data-discount=\"50\" data-price-final=\"699\"><div class=\"discount_pct\">-50%</div><div class=\"discount_prices\"><div class=\"discount_original_price\">13,99€</div><div class=\"discount_final_price\">6,99€</div></div></div> </div>\n",
       "</div>\n",
       "</div>\n",
       "<div style=\"clear: left;\"></div>\n",
       "</a>\n",
       "<a class=\"search_result_row ds_collapse_flag\" data-ds-appid=\"330020\" data-ds-crtrids=\"[32989971]\" data-ds-itemkey=\"App_330020\" data-ds-steam-deck-compat-handled=\"true\" data-ds-tagids=\"[3859,1716,1646,3964,3843,42804,122]\" data-gpnav=\"item\" data-search-page=\"5\" href=\"https://store.steampowered.com/app/330020/Children_of_Morta/?snr=1_7_7_2300_150_5\" onmouseout=\"HideGameHover( this, event, 'global_hover' )\" onmouseover=\"GameHover( this, event, 'global_hover', {&quot;type&quot;:&quot;app&quot;,&quot;id&quot;:330020,&quot;public&quot;:1,&quot;v6&quot;:1} );\">\n",
       "<div class=\"col search_capsule\"><img src=\"https://cdn.akamai.steamstatic.com/steam/apps/330020/capsule_sm_120.jpg?t=1699288185\" srcset=\"https://cdn.akamai.steamstatic.com/steam/apps/330020/capsule_sm_120.jpg?t=1699288185 1x, https://cdn.akamai.steamstatic.com/steam/apps/330020/capsule_231x87.jpg?t=1699288185 2x\"/></div>\n",
       "<div class=\"responsive_search_name_combined\">\n",
       "<div class=\"col search_name ellipsis\">\n",
       "<span class=\"title\">Children of Morta</span>\n",
       "<div>\n",
       "<span class=\"platform_img win\"></span><span class=\"platform_img mac\"></span><span class=\"platform_img linux\"></span> </div>\n",
       "</div>\n",
       "<div class=\"col search_released responsive_secondrow\">\r\n",
       "                    3 Sep, 2019                </div>\n",
       "<div class=\"col search_reviewscore responsive_secondrow\">\n",
       "<span class=\"search_review_summary positive\" data-tooltip-html=\"Very Positive&lt;br&gt;89% of the 14,152 user reviews for this game are positive.\">\n",
       "</span>\n",
       "</div>\n",
       "<div class=\"col search_price_discount_combined responsive_secondrow\" data-price-final=\"549\">\n",
       "<div class=\"col search_discount_and_price responsive_secondrow\">\n",
       "<div class=\"discount_block search_discount_block\" data-bundlediscount=\"0\" data-discount=\"75\" data-price-final=\"549\"><div class=\"discount_pct\">-75%</div><div class=\"discount_prices\"><div class=\"discount_original_price\">21,99€</div><div class=\"discount_final_price\">5,49€</div></div></div> </div>\n",
       "</div>\n",
       "</div>\n",
       "<div style=\"clear: left;\"></div>\n",
       "</a>\n",
       "<a class=\"search_result_row ds_collapse_flag\" data-ds-appid=\"531130\" data-ds-crtrids=\"[4036972]\" data-ds-itemkey=\"App_531130\" data-ds-steam-deck-compat-handled=\"true\" data-ds-tagids=\"[599,1644,1695,4175,492,3859,4182]\" data-gpnav=\"item\" data-search-page=\"5\" href=\"https://store.steampowered.com/app/531130/Euro_Truck_Simulator_2__Vive_la_France/?snr=1_7_7_2300_150_5\" onmouseout=\"HideGameHover( this, event, 'global_hover' )\" onmouseover=\"GameHover( this, event, 'global_hover', {&quot;type&quot;:&quot;app&quot;,&quot;id&quot;:531130,&quot;public&quot;:1,&quot;v6&quot;:1} );\">\n",
       "<div class=\"col search_capsule\"><img src=\"https://cdn.akamai.steamstatic.com/steam/apps/531130/capsule_sm_120.jpg?t=1696690576\" srcset=\"https://cdn.akamai.steamstatic.com/steam/apps/531130/capsule_sm_120.jpg?t=1696690576 1x, https://cdn.akamai.steamstatic.com/steam/apps/531130/capsule_231x87.jpg?t=1696690576 2x\"/></div>\n",
       "<div class=\"responsive_search_name_combined\">\n",
       "<div class=\"col search_name ellipsis\">\n",
       "<span class=\"title\">Euro Truck Simulator 2 - Vive la France !</span>\n",
       "<div>\n",
       "<span class=\"platform_img win\"></span><span class=\"platform_img mac\"></span><span class=\"platform_img linux\"></span> </div>\n",
       "</div>\n",
       "<div class=\"col search_released responsive_secondrow\">\r\n",
       "                    5 Dec, 2016                </div>\n",
       "<div class=\"col search_reviewscore responsive_secondrow\">\n",
       "<span class=\"search_review_summary positive\" data-tooltip-html=\"Very Positive&lt;br&gt;92% of the 1,790 user reviews for this game are positive.\">\n",
       "</span>\n",
       "</div>\n",
       "<div class=\"col search_price_discount_combined responsive_secondrow\" data-price-final=\"611\">\n",
       "<div class=\"col search_discount_and_price responsive_secondrow\">\n",
       "<div class=\"discount_block search_discount_block\" data-bundlediscount=\"0\" data-discount=\"66\" data-price-final=\"611\"><div class=\"discount_pct\">-66%</div><div class=\"discount_prices\"><div class=\"discount_original_price\">17,99€</div><div class=\"discount_final_price\">6,11€</div></div></div> </div>\n",
       "</div>\n",
       "</div>\n",
       "<div style=\"clear: left;\"></div>\n",
       "</a>\n",
       "<a class=\"search_result_row ds_collapse_flag\" data-ds-appid=\"588650\" data-ds-crtrids=\"[32971341]\" data-ds-itemkey=\"App_588650\" data-ds-steam-deck-compat-handled=\"true\" data-ds-tagids=\"[21,42804,1628,3964,3871,1716,29482]\" data-gpnav=\"item\" data-search-page=\"5\" href=\"https://store.steampowered.com/app/588650/Dead_Cells/?snr=1_7_7_2300_150_5\" onmouseout=\"HideGameHover( this, event, 'global_hover' )\" onmouseover=\"GameHover( this, event, 'global_hover', {&quot;type&quot;:&quot;app&quot;,&quot;id&quot;:588650,&quot;public&quot;:1,&quot;v6&quot;:1} );\">\n",
       "<div class=\"col search_capsule\"><img src=\"https://cdn.akamai.steamstatic.com/steam/apps/588650/capsule_sm_120.jpg?t=1678188017\" srcset=\"https://cdn.akamai.steamstatic.com/steam/apps/588650/capsule_sm_120.jpg?t=1678188017 1x, https://cdn.akamai.steamstatic.com/steam/apps/588650/capsule_231x87.jpg?t=1678188017 2x\"/></div>\n",
       "<div class=\"responsive_search_name_combined\">\n",
       "<div class=\"col search_name ellipsis\">\n",
       "<span class=\"title\">Dead Cells</span>\n",
       "<div>\n",
       "<span class=\"platform_img win\"></span><span class=\"platform_img mac\"></span><span class=\"platform_img linux\"></span> </div>\n",
       "</div>\n",
       "<div class=\"col search_released responsive_secondrow\">\r\n",
       "                    6 Aug, 2018                </div>\n",
       "<div class=\"col search_reviewscore responsive_secondrow\">\n",
       "<span class=\"search_review_summary positive\" data-tooltip-html=\"Overwhelmingly Positive&lt;br&gt;97% of the 122,343 user reviews for this game are positive.\">\n",
       "</span>\n",
       "</div>\n",
       "<div class=\"col search_price_discount_combined responsive_secondrow\" data-price-final=\"1499\">\n",
       "<div class=\"col search_discount_and_price responsive_secondrow\">\n",
       "<div class=\"discount_block search_discount_block\" data-bundlediscount=\"0\" data-discount=\"40\" data-price-final=\"1499\"><div class=\"discount_pct\">-40%</div><div class=\"discount_prices\"><div class=\"discount_original_price\">24,99€</div><div class=\"discount_final_price\">14,99€</div></div></div> </div>\n",
       "</div>\n",
       "</div>\n",
       "<div style=\"clear: left;\"></div>\n",
       "</a>\n",
       "<a class=\"search_result_row ds_collapse_flag\" data-ds-bundle-data='{\"m_nDiscountPct\":\"15\",\"m_bMustPurchaseAsSet\":0,\"m_rgItems\":[{\"m_nPackageID\":576307,\"m_rgIncludedAppIDs\":[1623210],\"m_bPackageDiscounted\":true,\"m_nBasePriceInCents\":1479,\"m_nFinalPriceInCents\":990,\"m_nFinalPriceWithBundleDiscount\":841},{\"m_nPackageID\":863114,\"m_rgIncludedAppIDs\":[2399160],\"m_bPackageDiscounted\":true,\"m_nBasePriceInCents\":1749,\"m_nFinalPriceInCents\":1574,\"m_nFinalPriceWithBundleDiscount\":1338}],\"m_bIsCommercial\":false,\"m_bRestrictGifting\":true}' data-ds-bundleid=\"36298\" data-ds-crtrids=\"[41201650]\" data-ds-descids=\"[5]\" data-ds-itemkey=\"Bundle_36298\" data-ds-steam-deck-compat-handled=\"true\" data-ds-tagids=\"[122,1695,454187,493,11333,3810,1684]\" data-gpnav=\"item\" data-search-page=\"5\" href=\"https://store.steampowered.com/bundle/36298/Soulash_Series_Bundle/?snr=1_7_7_2300_150_5\" onmouseout=\"HideGameHover( this, event, 'global_hover' )\" onmouseover=\"GameHover( this, event, 'global_hover', {&quot;type&quot;:&quot;bundle&quot;,&quot;id&quot;:36298,&quot;public&quot;:1,&quot;v6&quot;:1} );\">\n",
       "<div class=\"col search_capsule\"><img src=\"https://cdn.akamai.steamstatic.com/steam/bundles/36298/ayb0wx4vzyq6sdsc/capsule_sm_120.jpg?t=1701251347\" srcset=\"https://cdn.akamai.steamstatic.com/steam/bundles/36298/ayb0wx4vzyq6sdsc/capsule_sm_120.jpg?t=1701251347 1x, https://cdn.akamai.steamstatic.com/steam/bundles/36298/ayb0wx4vzyq6sdsc/capsule_231x87.jpg?t=1701251347 2x\"/></div>\n",
       "<div class=\"responsive_search_name_combined\">\n",
       "<div class=\"col search_name ellipsis\">\n",
       "<span class=\"title\">Soulash Series Bundle</span>\n",
       "<div>\n",
       "<span class=\"platform_img win\"></span> <span class=\"includes_games_results\">Includes 2 games</span>\n",
       "</div>\n",
       "</div>\n",
       "<div class=\"col search_released responsive_secondrow\">\n",
       "</div>\n",
       "<div class=\"col search_reviewscore responsive_secondrow\">\n",
       "<span class=\"search_review_summary positive\" data-tooltip-html=\"Mostly Positive&lt;br&gt;74% of the 376 user reviews for games in this bundle are positive.\">\n",
       "</span>\n",
       "</div>\n",
       "<div class=\"col search_price_discount_combined responsive_secondrow\" data-price-final=\"2179\">\n",
       "<div class=\"col search_discount_and_price responsive_secondrow\">\n",
       "<div class=\"discount_block search_discount_block\" data-bundlediscount=\"15\" data-discount=\"32\" data-price-final=\"2179\"><div class=\"bundle_base_discount\">-15%</div><div class=\"discount_pct\">-32%</div><div class=\"discount_prices\"><div class=\"discount_original_price\">32,28€</div><div class=\"discount_final_price\">21,79€</div></div></div> </div>\n",
       "</div>\n",
       "</div>\n",
       "<div style=\"clear: left;\"></div>\n",
       "</a>\n",
       "<a class=\"search_result_row ds_collapse_flag\" data-ds-appid=\"292030\" data-ds-crtrids=\"[32989758,44387619,44153544]\" data-ds-descids=\"[1,5]\" data-ds-itemkey=\"App_292030\" data-ds-steam-deck-compat-handled=\"true\" data-ds-tagids=\"[1695,122,1742,4166,5611,1684,21]\" data-gpnav=\"item\" data-search-page=\"5\" href=\"https://store.steampowered.com/app/292030/The_Witcher_3_Wild_Hunt/?snr=1_7_7_2300_150_5\" onmouseout=\"HideGameHover( this, event, 'global_hover' )\" onmouseover=\"GameHover( this, event, 'global_hover', {&quot;type&quot;:&quot;app&quot;,&quot;id&quot;:292030,&quot;public&quot;:1,&quot;v6&quot;:1} );\">\n",
       "<div class=\"col search_capsule\"><img src=\"https://cdn.akamai.steamstatic.com/steam/apps/292030/capsule_sm_120.jpg?t=1693590732\" srcset=\"https://cdn.akamai.steamstatic.com/steam/apps/292030/capsule_sm_120.jpg?t=1693590732 1x, https://cdn.akamai.steamstatic.com/steam/apps/292030/capsule_231x87.jpg?t=1693590732 2x\"/></div>\n",
       "<div class=\"responsive_search_name_combined\">\n",
       "<div class=\"col search_name ellipsis\">\n",
       "<span class=\"title\">The Witcher® 3: Wild Hunt</span>\n",
       "<div>\n",
       "<span class=\"platform_img win\"></span> </div>\n",
       "</div>\n",
       "<div class=\"col search_released responsive_secondrow\">\r\n",
       "                    18 May, 2015                </div>\n",
       "<div class=\"col search_reviewscore responsive_secondrow\">\n",
       "<span class=\"search_review_summary positive\" data-tooltip-html=\"Overwhelmingly Positive&lt;br&gt;96% of the 685,180 user reviews for this game are positive.&lt;br&gt;&lt;br&gt;This product has experienced one or more periods of off-topic review activity.  Based on your preferences, the reviews within these periods have been excluded from this product's Review Score.\">\n",
       "</span>\n",
       "</div>\n",
       "<div class=\"col search_price_discount_combined responsive_secondrow\" data-price-final=\"749\">\n",
       "<div class=\"col search_discount_and_price responsive_secondrow\">\n",
       "<div class=\"discount_block search_discount_block\" data-bundlediscount=\"0\" data-discount=\"75\" data-price-final=\"749\"><div class=\"discount_pct\">-75%</div><div class=\"discount_prices\"><div class=\"discount_original_price\">29,99€</div><div class=\"discount_final_price\">7,49€</div></div></div> </div>\n",
       "</div>\n",
       "</div>\n",
       "<div style=\"clear: left;\"></div>\n",
       "</a>\n",
       "<a class=\"search_result_row ds_collapse_flag\" data-ds-appid=\"600480\" data-ds-crtrids=\"[34318216]\" data-ds-itemkey=\"App_600480\" data-ds-steam-deck-compat-handled=\"true\" data-ds-tagids=\"[597,599,1643,3810,916648,12472,9157]\" data-gpnav=\"item\" data-search-page=\"5\" href=\"https://store.steampowered.com/app/600480/Megaquarium/?snr=1_7_7_2300_150_5\" onmouseout=\"HideGameHover( this, event, 'global_hover' )\" onmouseover=\"GameHover( this, event, 'global_hover', {&quot;type&quot;:&quot;app&quot;,&quot;id&quot;:600480,&quot;public&quot;:1,&quot;v6&quot;:1} );\">\n",
       "<div class=\"col search_capsule\"><img src=\"https://cdn.akamai.steamstatic.com/steam/apps/600480/capsule_sm_120_alt_assets_4.jpg?t=1697620355\" srcset=\"https://cdn.akamai.steamstatic.com/steam/apps/600480/capsule_sm_120_alt_assets_4.jpg?t=1697620355 1x, https://cdn.akamai.steamstatic.com/steam/apps/600480/capsule_231x87_alt_assets_4.jpg?t=1697620355 2x\"/></div>\n",
       "<div class=\"responsive_search_name_combined\">\n",
       "<div class=\"col search_name ellipsis\">\n",
       "<span class=\"title\">Megaquarium</span>\n",
       "<div>\n",
       "<span class=\"platform_img win\"></span><span class=\"platform_img mac\"></span><span class=\"platform_img linux\"></span> </div>\n",
       "</div>\n",
       "<div class=\"col search_released responsive_secondrow\">\r\n",
       "                    13 Sep, 2018                </div>\n",
       "<div class=\"col search_reviewscore responsive_secondrow\">\n",
       "<span class=\"search_review_summary positive\" data-tooltip-html=\"Very Positive&lt;br&gt;94% of the 2,594 user reviews for this game are positive.\">\n",
       "</span>\n",
       "</div>\n",
       "<div class=\"col search_price_discount_combined responsive_secondrow\" data-price-final=\"735\">\n",
       "<div class=\"col search_discount_and_price responsive_secondrow\">\n",
       "<div class=\"discount_block search_discount_block\" data-bundlediscount=\"0\" data-discount=\"70\" data-price-final=\"735\"><div class=\"discount_pct\">-70%</div><div class=\"discount_prices\"><div class=\"discount_original_price\">24,50€</div><div class=\"discount_final_price\">7,35€</div></div></div> </div>\n",
       "</div>\n",
       "</div>\n",
       "<div style=\"clear: left;\"></div>\n",
       "</a>\n",
       "<a class=\"search_result_row ds_collapse_flag\" data-ds-appid=\"1977170\" data-ds-crtrids=\"[33977966]\" data-ds-itemkey=\"App_1977170\" data-ds-steam-deck-compat-handled=\"true\" data-ds-tagids=\"[19,4106,1664,4166,7948,4036,21]\" data-gpnav=\"item\" data-search-page=\"5\" href=\"https://store.steampowered.com/app/1977170/Jusant/?snr=1_7_7_2300_150_5\" onmouseout=\"HideGameHover( this, event, 'global_hover' )\" onmouseover=\"GameHover( this, event, 'global_hover', {&quot;type&quot;:&quot;app&quot;,&quot;id&quot;:1977170,&quot;public&quot;:1,&quot;v6&quot;:1} );\">\n",
       "<div class=\"col search_capsule\"><img src=\"https://cdn.akamai.steamstatic.com/steam/apps/1977170/capsule_sm_120.jpg?t=1701263466\" srcset=\"https://cdn.akamai.steamstatic.com/steam/apps/1977170/capsule_sm_120.jpg?t=1701263466 1x, https://cdn.akamai.steamstatic.com/steam/apps/1977170/capsule_231x87.jpg?t=1701263466 2x\"/></div>\n",
       "<div class=\"responsive_search_name_combined\">\n",
       "<div class=\"col search_name ellipsis\">\n",
       "<span class=\"title\">Jusant</span>\n",
       "<div>\n",
       "<span class=\"platform_img win\"></span> </div>\n",
       "</div>\n",
       "<div class=\"col search_released responsive_secondrow\">\r\n",
       "                    31 Oct, 2023                </div>\n",
       "<div class=\"col search_reviewscore responsive_secondrow\">\n",
       "<span class=\"search_review_summary positive\" data-tooltip-html=\"Overwhelmingly Positive&lt;br&gt;96% of the 724 user reviews for this game are positive.\">\n",
       "</span>\n",
       "</div>\n",
       "<div class=\"col search_price_discount_combined responsive_secondrow\" data-price-final=\"1999\">\n",
       "<div class=\"col search_discount_and_price responsive_secondrow\">\n",
       "<div class=\"discount_block search_discount_block\" data-bundlediscount=\"0\" data-discount=\"20\" data-price-final=\"1999\"><div class=\"discount_pct\">-20%</div><div class=\"discount_prices\"><div class=\"discount_original_price\">24,99€</div><div class=\"discount_final_price\">19,99€</div></div></div> </div>\n",
       "</div>\n",
       "</div>\n",
       "<div style=\"clear: left;\"></div>\n",
       "</a>\n",
       "<a class=\"search_result_row ds_collapse_flag\" data-ds-appid=\"1355090\" data-ds-crtrids=\"[33788459]\" data-ds-itemkey=\"App_1355090\" data-ds-steam-deck-compat-handled=\"true\" data-ds-tagids=\"[1616,255534,8945,9,599,1643,12472]\" data-gpnav=\"item\" data-search-page=\"5\" href=\"https://store.steampowered.com/app/1355090/RAILGRADE/?snr=1_7_7_2300_150_5\" onmouseout=\"HideGameHover( this, event, 'global_hover' )\" onmouseover=\"GameHover( this, event, 'global_hover', {&quot;type&quot;:&quot;app&quot;,&quot;id&quot;:1355090,&quot;public&quot;:1,&quot;v6&quot;:1} );\">\n",
       "<div class=\"col search_capsule\"><img src=\"https://cdn.akamai.steamstatic.com/steam/apps/1355090/capsule_sm_120.jpg?t=1701562013\" srcset=\"https://cdn.akamai.steamstatic.com/steam/apps/1355090/capsule_sm_120.jpg?t=1701562013 1x, https://cdn.akamai.steamstatic.com/steam/apps/1355090/capsule_231x87.jpg?t=1701562013 2x\"/></div>\n",
       "<div class=\"responsive_search_name_combined\">\n",
       "<div class=\"col search_name ellipsis\">\n",
       "<span class=\"title\">RAILGRADE</span>\n",
       "<div>\n",
       "<span class=\"platform_img win\"></span><span class=\"platform_img mac\"></span> </div>\n",
       "</div>\n",
       "<div class=\"col search_released responsive_secondrow\">\r\n",
       "                    13 Oct, 2023                </div>\n",
       "<div class=\"col search_reviewscore responsive_secondrow\">\n",
       "<span class=\"search_review_summary positive\" data-tooltip-html=\"Very Positive&lt;br&gt;80% of the 347 user reviews for this game are positive.\">\n",
       "</span>\n",
       "</div>\n",
       "<div class=\"col search_price_discount_combined responsive_secondrow\" data-price-final=\"2174\">\n",
       "<div class=\"col search_discount_and_price responsive_secondrow\">\n",
       "<div class=\"discount_block search_discount_block\" data-bundlediscount=\"0\" data-discount=\"25\" data-price-final=\"2174\"><div class=\"discount_pct\">-25%</div><div class=\"discount_prices\"><div class=\"discount_original_price\">28,99€</div><div class=\"discount_final_price\">21,74€</div></div></div> </div>\n",
       "</div>\n",
       "</div>\n",
       "<div style=\"clear: left;\"></div>\n",
       "</a>\n",
       "<a class=\"search_result_row ds_collapse_flag\" data-ds-appid=\"645630\" data-ds-crtrids=\"[33701576]\" data-ds-itemkey=\"App_645630\" data-ds-steam-deck-compat-handled=\"true\" data-ds-tagids=\"[599,1100687,1644,1643,4175,699,4182]\" data-gpnav=\"item\" data-search-page=\"5\" href=\"https://store.steampowered.com/app/645630/Car_Mechanic_Simulator_2018/?snr=1_7_7_2300_150_5\" onmouseout=\"HideGameHover( this, event, 'global_hover' )\" onmouseover=\"GameHover( this, event, 'global_hover', {&quot;type&quot;:&quot;app&quot;,&quot;id&quot;:645630,&quot;public&quot;:1,&quot;v6&quot;:1} );\">\n",
       "<div class=\"col search_capsule\"><img src=\"https://cdn.akamai.steamstatic.com/steam/apps/645630/capsule_sm_120.jpg?t=1700948262\" srcset=\"https://cdn.akamai.steamstatic.com/steam/apps/645630/capsule_sm_120.jpg?t=1700948262 1x, https://cdn.akamai.steamstatic.com/steam/apps/645630/capsule_231x87.jpg?t=1700948262 2x\"/></div>\n",
       "<div class=\"responsive_search_name_combined\">\n",
       "<div class=\"col search_name ellipsis\">\n",
       "<span class=\"title\">Car Mechanic Simulator 2018</span>\n",
       "<div>\n",
       "<span class=\"platform_img win\"></span><span class=\"platform_img mac\"></span> </div>\n",
       "</div>\n",
       "<div class=\"col search_released responsive_secondrow\">\r\n",
       "                    28 Jul, 2017                </div>\n",
       "<div class=\"col search_reviewscore responsive_secondrow\">\n",
       "<span class=\"search_review_summary positive\" data-tooltip-html=\"Very Positive&lt;br&gt;91% of the 43,115 user reviews for this game are positive.\">\n",
       "</span>\n",
       "</div>\n",
       "<div class=\"col search_price_discount_combined responsive_secondrow\" data-price-final=\"195\">\n",
       "<div class=\"col search_discount_and_price responsive_secondrow\">\n",
       "<div class=\"discount_block search_discount_block\" data-bundlediscount=\"0\" data-discount=\"90\" data-price-final=\"195\"><div class=\"discount_pct\">-90%</div><div class=\"discount_prices\"><div class=\"discount_original_price\">19,50€</div><div class=\"discount_final_price\">1,95€</div></div></div> </div>\n",
       "</div>\n",
       "</div>\n",
       "<div style=\"clear: left;\"></div>\n",
       "</a>\n",
       "<a class=\"search_result_row ds_collapse_flag\" data-ds-appid=\"1656370\" data-ds-itemkey=\"App_1656370\" data-ds-steam-deck-compat-handled=\"true\" data-ds-tagids=\"[113,1695,1663,353880,1754,1685,6730]\" data-gpnav=\"item\" data-search-page=\"5\" href=\"https://store.steampowered.com/app/1656370/Destiny_2_Bungie_30th_Anniversary_Pack/?snr=1_7_7_2300_150_5\" onmouseout=\"HideGameHover( this, event, 'global_hover' )\" onmouseover=\"GameHover( this, event, 'global_hover', {&quot;type&quot;:&quot;app&quot;,&quot;id&quot;:1656370,&quot;public&quot;:1,&quot;v6&quot;:1} );\">\n",
       "<div class=\"col search_capsule\"><img src=\"https://cdn.akamai.steamstatic.com/steam/apps/1656370/capsule_sm_120.jpg?t=1654039643\" srcset=\"https://cdn.akamai.steamstatic.com/steam/apps/1656370/capsule_sm_120.jpg?t=1654039643 1x, https://cdn.akamai.steamstatic.com/steam/apps/1656370/capsule_231x87.jpg?t=1654039643 2x\"/></div>\n",
       "<div class=\"responsive_search_name_combined\">\n",
       "<div class=\"col search_name ellipsis\">\n",
       "<span class=\"title\">Destiny 2: Bungie 30th Anniversary Pack</span>\n",
       "<div>\n",
       "<span class=\"platform_img win\"></span> </div>\n",
       "</div>\n",
       "<div class=\"col search_released responsive_secondrow\">\r\n",
       "                    7 Dec, 2021                </div>\n",
       "<div class=\"col search_reviewscore responsive_secondrow\">\n",
       "<span class=\"search_review_summary mixed\" data-tooltip-html=\"Mixed&lt;br&gt;46% of the 1,556 user reviews for this game are positive.\">\n",
       "</span>\n",
       "</div>\n",
       "<div class=\"col search_price_discount_combined responsive_secondrow\" data-price-final=\"624\">\n",
       "<div class=\"col search_discount_and_price responsive_secondrow\">\n",
       "<div class=\"discount_block search_discount_block\" data-bundlediscount=\"0\" data-discount=\"75\" data-price-final=\"624\"><div class=\"discount_pct\">-75%</div><div class=\"discount_prices\"><div class=\"discount_original_price\">24,99€</div><div class=\"discount_final_price\">6,24€</div></div></div> </div>\n",
       "</div>\n",
       "</div>\n",
       "<div style=\"clear: left;\"></div>\n",
       "</a>\n",
       "<a class=\"search_result_row ds_collapse_flag\" data-ds-appid=\"1942650\" data-ds-crtrids=\"[44083987,21394]\" data-ds-descids=\"[2,5]\" data-ds-itemkey=\"App_1942650\" data-ds-steam-deck-compat-handled=\"true\" data-ds-tagids=\"[19,122,4667]\" data-gpnav=\"item\" data-search-page=\"5\" href=\"https://store.steampowered.com/app/1942650/Aliens_Fireteam_Elite__Pathogen_Expansion/?snr=1_7_7_2300_150_5\" onmouseout=\"HideGameHover( this, event, 'global_hover' )\" onmouseover=\"GameHover( this, event, 'global_hover', {&quot;type&quot;:&quot;app&quot;,&quot;id&quot;:1942650,&quot;public&quot;:1,&quot;v6&quot;:1} );\">\n",
       "<div class=\"col search_capsule\"><img src=\"https://cdn.akamai.steamstatic.com/steam/apps/1942650/capsule_sm_120.jpg?t=1661868686\" srcset=\"https://cdn.akamai.steamstatic.com/steam/apps/1942650/capsule_sm_120.jpg?t=1661868686 1x, https://cdn.akamai.steamstatic.com/steam/apps/1942650/capsule_231x87.jpg?t=1661868686 2x\"/></div>\n",
       "<div class=\"responsive_search_name_combined\">\n",
       "<div class=\"col search_name ellipsis\">\n",
       "<span class=\"title\">Aliens: Fireteam Elite - Pathogen Expansion</span>\n",
       "<div>\n",
       "<span class=\"platform_img win\"></span> </div>\n",
       "</div>\n",
       "<div class=\"col search_released responsive_secondrow\">\r\n",
       "                    30 Aug, 2022                </div>\n",
       "<div class=\"col search_reviewscore responsive_secondrow\">\n",
       "<span class=\"search_review_summary mixed\" data-tooltip-html=\"Mixed&lt;br&gt;68% of the 296 user reviews for this game are positive.\">\n",
       "</span>\n",
       "</div>\n",
       "<div class=\"col search_price_discount_combined responsive_secondrow\" data-price-final=\"599\">\n",
       "<div class=\"col search_discount_and_price responsive_secondrow\">\n",
       "<div class=\"discount_block search_discount_block\" data-bundlediscount=\"0\" data-discount=\"60\" data-price-final=\"599\"><div class=\"discount_pct\">-60%</div><div class=\"discount_prices\"><div class=\"discount_original_price\">14,99€</div><div class=\"discount_final_price\">5,99€</div></div></div> </div>\n",
       "</div>\n",
       "</div>\n",
       "<div style=\"clear: left;\"></div>\n",
       "</a>\n",
       "<!-- End List Items -->\n",
       "</div>"
      ],
      "text/plain": [
       "<IPython.core.display.HTML object>"
      ]
     },
     "execution_count": 250,
     "metadata": {},
     "output_type": "execute_result"
    }
   ],
   "source": [
    "games = soup.find('div', {'id': 'search_resultsRows'})\n",
    "HTML(str(games))"
   ]
  },
  {
   "cell_type": "code",
   "execution_count": 252,
   "metadata": {},
   "outputs": [
    {
     "data": {
      "text/html": [
       "<span class=\"title\">Caves of Qud</span>"
      ],
      "text/plain": [
       "<IPython.core.display.HTML object>"
      ]
     },
     "metadata": {},
     "output_type": "display_data"
    },
    {
     "data": {
      "text/html": [
       "<div class=\"col search_released responsive_secondrow\">\r\n",
       "                    15 Jul, 2015                </div>"
      ],
      "text/plain": [
       "<IPython.core.display.HTML object>"
      ]
     },
     "metadata": {},
     "output_type": "display_data"
    },
    {
     "data": {
      "text/html": [
       "95"
      ],
      "text/plain": [
       "<IPython.core.display.HTML object>"
      ]
     },
     "metadata": {},
     "output_type": "display_data"
    },
    {
     "data": {
      "text/html": [
       "<div class=\"discount_pct\">-10%</div>"
      ],
      "text/plain": [
       "<IPython.core.display.HTML object>"
      ]
     },
     "metadata": {},
     "output_type": "display_data"
    },
    {
     "data": {
      "text/html": [
       "<div class=\"discount_final_price\">15,11€</div>"
      ],
      "text/plain": [
       "<IPython.core.display.HTML object>"
      ]
     },
     "metadata": {},
     "output_type": "display_data"
    },
    {
     "data": {
      "text/html": [
       "<div class=\"discount_original_price\">16,79€</div>"
      ],
      "text/plain": [
       "<IPython.core.display.HTML object>"
      ]
     },
     "metadata": {},
     "output_type": "display_data"
    },
    {
     "data": {
      "text/html": [
       "['win', 'mac', 'linux']"
      ],
      "text/plain": [
       "<IPython.core.display.HTML object>"
      ]
     },
     "metadata": {},
     "output_type": "display_data"
    },
    {
     "name": "stdout",
     "output_type": "stream",
     "text": [
      "____________\n"
     ]
    },
    {
     "data": {
      "text/html": [
       "<span class=\"title\">The Witcher 3: Wild Hunt - Complete Edition</span>"
      ],
      "text/plain": [
       "<IPython.core.display.HTML object>"
      ]
     },
     "metadata": {},
     "output_type": "display_data"
    },
    {
     "data": {
      "text/html": [
       "<div class=\"col search_released responsive_secondrow\">\r\n",
       "                    30 Aug, 2016                </div>"
      ],
      "text/plain": [
       "<IPython.core.display.HTML object>"
      ]
     },
     "metadata": {},
     "output_type": "display_data"
    },
    {
     "data": {
      "text/html": [
       "96"
      ],
      "text/plain": [
       "<IPython.core.display.HTML object>"
      ]
     },
     "metadata": {},
     "output_type": "display_data"
    },
    {
     "data": {
      "text/html": [
       "<div class=\"discount_pct\">-75%</div>"
      ],
      "text/plain": [
       "<IPython.core.display.HTML object>"
      ]
     },
     "metadata": {},
     "output_type": "display_data"
    },
    {
     "data": {
      "text/html": [
       "<div class=\"discount_final_price\">12,49€</div>"
      ],
      "text/plain": [
       "<IPython.core.display.HTML object>"
      ]
     },
     "metadata": {},
     "output_type": "display_data"
    },
    {
     "data": {
      "text/html": [
       "<div class=\"discount_original_price\">49,99€</div>"
      ],
      "text/plain": [
       "<IPython.core.display.HTML object>"
      ]
     },
     "metadata": {},
     "output_type": "display_data"
    },
    {
     "data": {
      "text/html": [
       "['win']"
      ],
      "text/plain": [
       "<IPython.core.display.HTML object>"
      ]
     },
     "metadata": {},
     "output_type": "display_data"
    },
    {
     "name": "stdout",
     "output_type": "stream",
     "text": [
      "____________\n"
     ]
    },
    {
     "data": {
      "text/html": [
       "<span class=\"title\">Sea of Stars + The Messenger Bundle</span>"
      ],
      "text/plain": [
       "<IPython.core.display.HTML object>"
      ]
     },
     "metadata": {},
     "output_type": "display_data"
    },
    {
     "data": {
      "text/html": [
       "<div class=\"col search_released responsive_secondrow\">\n",
       "</div>"
      ],
      "text/plain": [
       "<IPython.core.display.HTML object>"
      ]
     },
     "metadata": {},
     "output_type": "display_data"
    },
    {
     "data": {
      "text/html": [
       "91"
      ],
      "text/plain": [
       "<IPython.core.display.HTML object>"
      ]
     },
     "metadata": {},
     "output_type": "display_data"
    },
    {
     "data": {
      "text/html": [
       "<div class=\"discount_pct\">-40%</div>"
      ],
      "text/plain": [
       "<IPython.core.display.HTML object>"
      ]
     },
     "metadata": {},
     "output_type": "display_data"
    },
    {
     "data": {
      "text/html": [
       "<div class=\"discount_final_price\">31,91€</div>"
      ],
      "text/plain": [
       "<IPython.core.display.HTML object>"
      ]
     },
     "metadata": {},
     "output_type": "display_data"
    },
    {
     "data": {
      "text/html": [
       "<div class=\"discount_original_price\">53,49€</div>"
      ],
      "text/plain": [
       "<IPython.core.display.HTML object>"
      ]
     },
     "metadata": {},
     "output_type": "display_data"
    },
    {
     "data": {
      "text/html": [
       "['win']"
      ],
      "text/plain": [
       "<IPython.core.display.HTML object>"
      ]
     },
     "metadata": {},
     "output_type": "display_data"
    },
    {
     "name": "stdout",
     "output_type": "stream",
     "text": [
      "____________\n"
     ]
    },
    {
     "data": {
      "text/html": [
       "<span class=\"title\">SUPERHOT VR</span>"
      ],
      "text/plain": [
       "<IPython.core.display.HTML object>"
      ]
     },
     "metadata": {},
     "output_type": "display_data"
    },
    {
     "data": {
      "text/html": [
       "<div class=\"col search_released responsive_secondrow\">\r\n",
       "                    25 May, 2017                </div>"
      ],
      "text/plain": [
       "<IPython.core.display.HTML object>"
      ]
     },
     "metadata": {},
     "output_type": "display_data"
    },
    {
     "data": {
      "text/html": [
       "83"
      ],
      "text/plain": [
       "<IPython.core.display.HTML object>"
      ]
     },
     "metadata": {},
     "output_type": "display_data"
    },
    {
     "data": {
      "text/html": [
       "<div class=\"discount_pct\">-60%</div>"
      ],
      "text/plain": [
       "<IPython.core.display.HTML object>"
      ]
     },
     "metadata": {},
     "output_type": "display_data"
    },
    {
     "data": {
      "text/html": [
       "<div class=\"discount_final_price\">8,99€</div>"
      ],
      "text/plain": [
       "<IPython.core.display.HTML object>"
      ]
     },
     "metadata": {},
     "output_type": "display_data"
    },
    {
     "data": {
      "text/html": [
       "<div class=\"discount_original_price\">22,49€</div>"
      ],
      "text/plain": [
       "<IPython.core.display.HTML object>"
      ]
     },
     "metadata": {},
     "output_type": "display_data"
    },
    {
     "data": {
      "text/html": [
       "['win']"
      ],
      "text/plain": [
       "<IPython.core.display.HTML object>"
      ]
     },
     "metadata": {},
     "output_type": "display_data"
    },
    {
     "name": "stdout",
     "output_type": "stream",
     "text": [
      "____________\n"
     ]
    },
    {
     "data": {
      "text/html": [
       "<span class=\"title\">American Truck Simulator - Texas</span>"
      ],
      "text/plain": [
       "<IPython.core.display.HTML object>"
      ]
     },
     "metadata": {},
     "output_type": "display_data"
    },
    {
     "data": {
      "text/html": [
       "<div class=\"col search_released responsive_secondrow\">\r\n",
       "                    15 Nov, 2022                </div>"
      ],
      "text/plain": [
       "<IPython.core.display.HTML object>"
      ]
     },
     "metadata": {},
     "output_type": "display_data"
    },
    {
     "data": {
      "text/html": [
       "86"
      ],
      "text/plain": [
       "<IPython.core.display.HTML object>"
      ]
     },
     "metadata": {},
     "output_type": "display_data"
    },
    {
     "data": {
      "text/html": [
       "<div class=\"discount_pct\">-10%</div>"
      ],
      "text/plain": [
       "<IPython.core.display.HTML object>"
      ]
     },
     "metadata": {},
     "output_type": "display_data"
    },
    {
     "data": {
      "text/html": [
       "<div class=\"discount_final_price\">16,19€</div>"
      ],
      "text/plain": [
       "<IPython.core.display.HTML object>"
      ]
     },
     "metadata": {},
     "output_type": "display_data"
    },
    {
     "data": {
      "text/html": [
       "<div class=\"discount_original_price\">17,99€</div>"
      ],
      "text/plain": [
       "<IPython.core.display.HTML object>"
      ]
     },
     "metadata": {},
     "output_type": "display_data"
    },
    {
     "data": {
      "text/html": [
       "['win', 'mac', 'linux']"
      ],
      "text/plain": [
       "<IPython.core.display.HTML object>"
      ]
     },
     "metadata": {},
     "output_type": "display_data"
    },
    {
     "name": "stdout",
     "output_type": "stream",
     "text": [
      "____________\n"
     ]
    },
    {
     "data": {
      "text/html": [
       "<span class=\"title\">BONEWORKS</span>"
      ],
      "text/plain": [
       "<IPython.core.display.HTML object>"
      ]
     },
     "metadata": {},
     "output_type": "display_data"
    },
    {
     "data": {
      "text/html": [
       "<div class=\"col search_released responsive_secondrow\">\r\n",
       "                    10 Dec, 2019                </div>"
      ],
      "text/plain": [
       "<IPython.core.display.HTML object>"
      ]
     },
     "metadata": {},
     "output_type": "display_data"
    },
    {
     "data": {
      "text/html": [
       "92"
      ],
      "text/plain": [
       "<IPython.core.display.HTML object>"
      ]
     },
     "metadata": {},
     "output_type": "display_data"
    },
    {
     "data": {
      "text/html": [
       "<div class=\"discount_pct\">-20%</div>"
      ],
      "text/plain": [
       "<IPython.core.display.HTML object>"
      ]
     },
     "metadata": {},
     "output_type": "display_data"
    },
    {
     "data": {
      "text/html": [
       "<div class=\"discount_final_price\">23,19€</div>"
      ],
      "text/plain": [
       "<IPython.core.display.HTML object>"
      ]
     },
     "metadata": {},
     "output_type": "display_data"
    },
    {
     "data": {
      "text/html": [
       "<div class=\"discount_original_price\">28,99€</div>"
      ],
      "text/plain": [
       "<IPython.core.display.HTML object>"
      ]
     },
     "metadata": {},
     "output_type": "display_data"
    },
    {
     "data": {
      "text/html": [
       "['win']"
      ],
      "text/plain": [
       "<IPython.core.display.HTML object>"
      ]
     },
     "metadata": {},
     "output_type": "display_data"
    },
    {
     "name": "stdout",
     "output_type": "stream",
     "text": [
      "____________\n"
     ]
    },
    {
     "data": {
      "text/html": [
       "<span class=\"title\">PAYDAY 2</span>"
      ],
      "text/plain": [
       "<IPython.core.display.HTML object>"
      ]
     },
     "metadata": {},
     "output_type": "display_data"
    },
    {
     "data": {
      "text/html": [
       "<div class=\"col search_released responsive_secondrow\">\r\n",
       "                    13 Aug, 2013                </div>"
      ],
      "text/plain": [
       "<IPython.core.display.HTML object>"
      ]
     },
     "metadata": {},
     "output_type": "display_data"
    },
    {
     "data": {
      "text/html": [
       "89"
      ],
      "text/plain": [
       "<IPython.core.display.HTML object>"
      ]
     },
     "metadata": {},
     "output_type": "display_data"
    },
    {
     "data": {
      "text/html": [
       "<div class=\"discount_pct\">-50%</div>"
      ],
      "text/plain": [
       "<IPython.core.display.HTML object>"
      ]
     },
     "metadata": {},
     "output_type": "display_data"
    },
    {
     "data": {
      "text/html": [
       "<div class=\"discount_final_price\">4,99€</div>"
      ],
      "text/plain": [
       "<IPython.core.display.HTML object>"
      ]
     },
     "metadata": {},
     "output_type": "display_data"
    },
    {
     "data": {
      "text/html": [
       "<div class=\"discount_original_price\">9,99€</div>"
      ],
      "text/plain": [
       "<IPython.core.display.HTML object>"
      ]
     },
     "metadata": {},
     "output_type": "display_data"
    },
    {
     "data": {
      "text/html": [
       "['win', 'linux']"
      ],
      "text/plain": [
       "<IPython.core.display.HTML object>"
      ]
     },
     "metadata": {},
     "output_type": "display_data"
    },
    {
     "name": "stdout",
     "output_type": "stream",
     "text": [
      "____________\n"
     ]
    },
    {
     "data": {
      "text/html": [
       "<span class=\"title\">Outpath</span>"
      ],
      "text/plain": [
       "<IPython.core.display.HTML object>"
      ]
     },
     "metadata": {},
     "output_type": "display_data"
    },
    {
     "data": {
      "text/html": [
       "<div class=\"col search_released responsive_secondrow\">\r\n",
       "                    16 Oct, 2023                </div>"
      ],
      "text/plain": [
       "<IPython.core.display.HTML object>"
      ]
     },
     "metadata": {},
     "output_type": "display_data"
    },
    {
     "data": {
      "text/html": [
       "96"
      ],
      "text/plain": [
       "<IPython.core.display.HTML object>"
      ]
     },
     "metadata": {},
     "output_type": "display_data"
    },
    {
     "data": {
      "text/html": [
       "<div class=\"discount_pct\">-20%</div>"
      ],
      "text/plain": [
       "<IPython.core.display.HTML object>"
      ]
     },
     "metadata": {},
     "output_type": "display_data"
    },
    {
     "data": {
      "text/html": [
       "<div class=\"discount_final_price\">11,83€</div>"
      ],
      "text/plain": [
       "<IPython.core.display.HTML object>"
      ]
     },
     "metadata": {},
     "output_type": "display_data"
    },
    {
     "data": {
      "text/html": [
       "<div class=\"discount_original_price\">14,79€</div>"
      ],
      "text/plain": [
       "<IPython.core.display.HTML object>"
      ]
     },
     "metadata": {},
     "output_type": "display_data"
    },
    {
     "data": {
      "text/html": [
       "['win']"
      ],
      "text/plain": [
       "<IPython.core.display.HTML object>"
      ]
     },
     "metadata": {},
     "output_type": "display_data"
    },
    {
     "name": "stdout",
     "output_type": "stream",
     "text": [
      "____________\n"
     ]
    },
    {
     "data": {
      "text/html": [
       "<span class=\"title\">Warhammer 40,000: Gladius - Adepta Sororitas</span>"
      ],
      "text/plain": [
       "<IPython.core.display.HTML object>"
      ]
     },
     "metadata": {},
     "output_type": "display_data"
    },
    {
     "data": {
      "text/html": [
       "<div class=\"col search_released responsive_secondrow\">\r\n",
       "                    13 Dec, 2022                </div>"
      ],
      "text/plain": [
       "<IPython.core.display.HTML object>"
      ]
     },
     "metadata": {},
     "output_type": "display_data"
    },
    {
     "data": {
      "text/html": [
       "95"
      ],
      "text/plain": [
       "<IPython.core.display.HTML object>"
      ]
     },
     "metadata": {},
     "output_type": "display_data"
    },
    {
     "data": {
      "text/html": [
       "<div class=\"discount_pct\">-20%</div>"
      ],
      "text/plain": [
       "<IPython.core.display.HTML object>"
      ]
     },
     "metadata": {},
     "output_type": "display_data"
    },
    {
     "data": {
      "text/html": [
       "<div class=\"discount_final_price\">13,32€</div>"
      ],
      "text/plain": [
       "<IPython.core.display.HTML object>"
      ]
     },
     "metadata": {},
     "output_type": "display_data"
    },
    {
     "data": {
      "text/html": [
       "<div class=\"discount_original_price\">16,66€</div>"
      ],
      "text/plain": [
       "<IPython.core.display.HTML object>"
      ]
     },
     "metadata": {},
     "output_type": "display_data"
    },
    {
     "data": {
      "text/html": [
       "['win', 'linux']"
      ],
      "text/plain": [
       "<IPython.core.display.HTML object>"
      ]
     },
     "metadata": {},
     "output_type": "display_data"
    },
    {
     "name": "stdout",
     "output_type": "stream",
     "text": [
      "____________\n"
     ]
    },
    {
     "data": {
      "text/html": [
       "<span class=\"title\">Dwarf Fortress</span>"
      ],
      "text/plain": [
       "<IPython.core.display.HTML object>"
      ]
     },
     "metadata": {},
     "output_type": "display_data"
    },
    {
     "data": {
      "text/html": [
       "<div class=\"col search_released responsive_secondrow\">\r\n",
       "                    6 Dec, 2022                </div>"
      ],
      "text/plain": [
       "<IPython.core.display.HTML object>"
      ]
     },
     "metadata": {},
     "output_type": "display_data"
    },
    {
     "data": {
      "text/html": [
       "95"
      ],
      "text/plain": [
       "<IPython.core.display.HTML object>"
      ]
     },
     "metadata": {},
     "output_type": "display_data"
    },
    {
     "data": {
      "text/html": [
       "<div class=\"discount_pct\">-10%</div>"
      ],
      "text/plain": [
       "<IPython.core.display.HTML object>"
      ]
     },
     "metadata": {},
     "output_type": "display_data"
    },
    {
     "data": {
      "text/html": [
       "<div class=\"discount_final_price\">26,09€</div>"
      ],
      "text/plain": [
       "<IPython.core.display.HTML object>"
      ]
     },
     "metadata": {},
     "output_type": "display_data"
    },
    {
     "data": {
      "text/html": [
       "<div class=\"discount_original_price\">28,99€</div>"
      ],
      "text/plain": [
       "<IPython.core.display.HTML object>"
      ]
     },
     "metadata": {},
     "output_type": "display_data"
    },
    {
     "data": {
      "text/html": [
       "['win', 'linux']"
      ],
      "text/plain": [
       "<IPython.core.display.HTML object>"
      ]
     },
     "metadata": {},
     "output_type": "display_data"
    },
    {
     "name": "stdout",
     "output_type": "stream",
     "text": [
      "____________\n"
     ]
    },
    {
     "data": {
      "text/html": [
       "<span class=\"title\">Keep Talking and Nobody Explodes</span>"
      ],
      "text/plain": [
       "<IPython.core.display.HTML object>"
      ]
     },
     "metadata": {},
     "output_type": "display_data"
    },
    {
     "data": {
      "text/html": [
       "<div class=\"col search_released responsive_secondrow\">\r\n",
       "                    8 Oct, 2015                </div>"
      ],
      "text/plain": [
       "<IPython.core.display.HTML object>"
      ]
     },
     "metadata": {},
     "output_type": "display_data"
    },
    {
     "data": {
      "text/html": [
       "97"
      ],
      "text/plain": [
       "<IPython.core.display.HTML object>"
      ]
     },
     "metadata": {},
     "output_type": "display_data"
    },
    {
     "data": {
      "text/html": [
       "<div class=\"discount_pct\">-70%</div>"
      ],
      "text/plain": [
       "<IPython.core.display.HTML object>"
      ]
     },
     "metadata": {},
     "output_type": "display_data"
    },
    {
     "data": {
      "text/html": [
       "<div class=\"discount_final_price\">4,43€</div>"
      ],
      "text/plain": [
       "<IPython.core.display.HTML object>"
      ]
     },
     "metadata": {},
     "output_type": "display_data"
    },
    {
     "data": {
      "text/html": [
       "<div class=\"discount_original_price\">14,79€</div>"
      ],
      "text/plain": [
       "<IPython.core.display.HTML object>"
      ]
     },
     "metadata": {},
     "output_type": "display_data"
    },
    {
     "data": {
      "text/html": [
       "['win', 'mac', 'linux']"
      ],
      "text/plain": [
       "<IPython.core.display.HTML object>"
      ]
     },
     "metadata": {},
     "output_type": "display_data"
    },
    {
     "name": "stdout",
     "output_type": "stream",
     "text": [
      "____________\n"
     ]
    },
    {
     "data": {
      "text/html": [
       "<span class=\"title\">Deadly Bullets Bundle | Deadly Days + Orbital Bullet</span>"
      ],
      "text/plain": [
       "<IPython.core.display.HTML object>"
      ]
     },
     "metadata": {},
     "output_type": "display_data"
    },
    {
     "data": {
      "text/html": [
       "<div class=\"col search_released responsive_secondrow\">\n",
       "</div>"
      ],
      "text/plain": [
       "<IPython.core.display.HTML object>"
      ]
     },
     "metadata": {},
     "output_type": "display_data"
    },
    {
     "data": {
      "text/html": [
       "86"
      ],
      "text/plain": [
       "<IPython.core.display.HTML object>"
      ]
     },
     "metadata": {},
     "output_type": "display_data"
    },
    {
     "data": {
      "text/html": [
       "<div class=\"discount_pct\">-79%</div>"
      ],
      "text/plain": [
       "<IPython.core.display.HTML object>"
      ]
     },
     "metadata": {},
     "output_type": "display_data"
    },
    {
     "data": {
      "text/html": [
       "<div class=\"discount_final_price\">5,97€</div>"
      ],
      "text/plain": [
       "<IPython.core.display.HTML object>"
      ]
     },
     "metadata": {},
     "output_type": "display_data"
    },
    {
     "data": {
      "text/html": [
       "<div class=\"discount_original_price\">28,98€</div>"
      ],
      "text/plain": [
       "<IPython.core.display.HTML object>"
      ]
     },
     "metadata": {},
     "output_type": "display_data"
    },
    {
     "data": {
      "text/html": [
       "['win']"
      ],
      "text/plain": [
       "<IPython.core.display.HTML object>"
      ]
     },
     "metadata": {},
     "output_type": "display_data"
    },
    {
     "name": "stdout",
     "output_type": "stream",
     "text": [
      "____________\n"
     ]
    },
    {
     "data": {
      "text/html": [
       "<span class=\"title\">I Expect You To Die Bundle</span>"
      ],
      "text/plain": [
       "<IPython.core.display.HTML object>"
      ]
     },
     "metadata": {},
     "output_type": "display_data"
    },
    {
     "data": {
      "text/html": [
       "<div class=\"col search_released responsive_secondrow\">\n",
       "</div>"
      ],
      "text/plain": [
       "<IPython.core.display.HTML object>"
      ]
     },
     "metadata": {},
     "output_type": "display_data"
    },
    {
     "data": {
      "text/html": [
       "95"
      ],
      "text/plain": [
       "<IPython.core.display.HTML object>"
      ]
     },
     "metadata": {},
     "output_type": "display_data"
    },
    {
     "data": {
      "text/html": [
       "<div class=\"discount_pct\">-37%</div>"
      ],
      "text/plain": [
       "<IPython.core.display.HTML object>"
      ]
     },
     "metadata": {},
     "output_type": "display_data"
    },
    {
     "data": {
      "text/html": [
       "<div class=\"discount_final_price\">41,81€</div>"
      ],
      "text/plain": [
       "<IPython.core.display.HTML object>"
      ]
     },
     "metadata": {},
     "output_type": "display_data"
    },
    {
     "data": {
      "text/html": [
       "<div class=\"discount_original_price\">66,48€</div>"
      ],
      "text/plain": [
       "<IPython.core.display.HTML object>"
      ]
     },
     "metadata": {},
     "output_type": "display_data"
    },
    {
     "data": {
      "text/html": [
       "['win']"
      ],
      "text/plain": [
       "<IPython.core.display.HTML object>"
      ]
     },
     "metadata": {},
     "output_type": "display_data"
    },
    {
     "name": "stdout",
     "output_type": "stream",
     "text": [
      "____________\n"
     ]
    },
    {
     "data": {
      "text/html": [
       "<span class=\"title\">The Henry Stickmin Collection</span>"
      ],
      "text/plain": [
       "<IPython.core.display.HTML object>"
      ]
     },
     "metadata": {},
     "output_type": "display_data"
    },
    {
     "data": {
      "text/html": [
       "<div class=\"col search_released responsive_secondrow\">\r\n",
       "                    7 Aug, 2020                </div>"
      ],
      "text/plain": [
       "<IPython.core.display.HTML object>"
      ]
     },
     "metadata": {},
     "output_type": "display_data"
    },
    {
     "data": {
      "text/html": [
       "98"
      ],
      "text/plain": [
       "<IPython.core.display.HTML object>"
      ]
     },
     "metadata": {},
     "output_type": "display_data"
    },
    {
     "data": {
      "text/html": [
       "<div class=\"discount_pct\">-50%</div>"
      ],
      "text/plain": [
       "<IPython.core.display.HTML object>"
      ]
     },
     "metadata": {},
     "output_type": "display_data"
    },
    {
     "data": {
      "text/html": [
       "<div class=\"discount_final_price\">6,99€</div>"
      ],
      "text/plain": [
       "<IPython.core.display.HTML object>"
      ]
     },
     "metadata": {},
     "output_type": "display_data"
    },
    {
     "data": {
      "text/html": [
       "<div class=\"discount_original_price\">13,99€</div>"
      ],
      "text/plain": [
       "<IPython.core.display.HTML object>"
      ]
     },
     "metadata": {},
     "output_type": "display_data"
    },
    {
     "data": {
      "text/html": [
       "['win', 'mac']"
      ],
      "text/plain": [
       "<IPython.core.display.HTML object>"
      ]
     },
     "metadata": {},
     "output_type": "display_data"
    },
    {
     "name": "stdout",
     "output_type": "stream",
     "text": [
      "____________\n"
     ]
    },
    {
     "data": {
      "text/html": [
       "<span class=\"title\">Children of Morta</span>"
      ],
      "text/plain": [
       "<IPython.core.display.HTML object>"
      ]
     },
     "metadata": {},
     "output_type": "display_data"
    },
    {
     "data": {
      "text/html": [
       "<div class=\"col search_released responsive_secondrow\">\r\n",
       "                    3 Sep, 2019                </div>"
      ],
      "text/plain": [
       "<IPython.core.display.HTML object>"
      ]
     },
     "metadata": {},
     "output_type": "display_data"
    },
    {
     "data": {
      "text/html": [
       "89"
      ],
      "text/plain": [
       "<IPython.core.display.HTML object>"
      ]
     },
     "metadata": {},
     "output_type": "display_data"
    },
    {
     "data": {
      "text/html": [
       "<div class=\"discount_pct\">-75%</div>"
      ],
      "text/plain": [
       "<IPython.core.display.HTML object>"
      ]
     },
     "metadata": {},
     "output_type": "display_data"
    },
    {
     "data": {
      "text/html": [
       "<div class=\"discount_final_price\">5,49€</div>"
      ],
      "text/plain": [
       "<IPython.core.display.HTML object>"
      ]
     },
     "metadata": {},
     "output_type": "display_data"
    },
    {
     "data": {
      "text/html": [
       "<div class=\"discount_original_price\">21,99€</div>"
      ],
      "text/plain": [
       "<IPython.core.display.HTML object>"
      ]
     },
     "metadata": {},
     "output_type": "display_data"
    },
    {
     "data": {
      "text/html": [
       "['win', 'mac', 'linux']"
      ],
      "text/plain": [
       "<IPython.core.display.HTML object>"
      ]
     },
     "metadata": {},
     "output_type": "display_data"
    },
    {
     "name": "stdout",
     "output_type": "stream",
     "text": [
      "____________\n"
     ]
    },
    {
     "data": {
      "text/html": [
       "<span class=\"title\">Euro Truck Simulator 2 - Vive la France !</span>"
      ],
      "text/plain": [
       "<IPython.core.display.HTML object>"
      ]
     },
     "metadata": {},
     "output_type": "display_data"
    },
    {
     "data": {
      "text/html": [
       "<div class=\"col search_released responsive_secondrow\">\r\n",
       "                    5 Dec, 2016                </div>"
      ],
      "text/plain": [
       "<IPython.core.display.HTML object>"
      ]
     },
     "metadata": {},
     "output_type": "display_data"
    },
    {
     "data": {
      "text/html": [
       "92"
      ],
      "text/plain": [
       "<IPython.core.display.HTML object>"
      ]
     },
     "metadata": {},
     "output_type": "display_data"
    },
    {
     "data": {
      "text/html": [
       "<div class=\"discount_pct\">-66%</div>"
      ],
      "text/plain": [
       "<IPython.core.display.HTML object>"
      ]
     },
     "metadata": {},
     "output_type": "display_data"
    },
    {
     "data": {
      "text/html": [
       "<div class=\"discount_final_price\">6,11€</div>"
      ],
      "text/plain": [
       "<IPython.core.display.HTML object>"
      ]
     },
     "metadata": {},
     "output_type": "display_data"
    },
    {
     "data": {
      "text/html": [
       "<div class=\"discount_original_price\">17,99€</div>"
      ],
      "text/plain": [
       "<IPython.core.display.HTML object>"
      ]
     },
     "metadata": {},
     "output_type": "display_data"
    },
    {
     "data": {
      "text/html": [
       "['win', 'mac', 'linux']"
      ],
      "text/plain": [
       "<IPython.core.display.HTML object>"
      ]
     },
     "metadata": {},
     "output_type": "display_data"
    },
    {
     "name": "stdout",
     "output_type": "stream",
     "text": [
      "____________\n"
     ]
    },
    {
     "data": {
      "text/html": [
       "<span class=\"title\">Dead Cells</span>"
      ],
      "text/plain": [
       "<IPython.core.display.HTML object>"
      ]
     },
     "metadata": {},
     "output_type": "display_data"
    },
    {
     "data": {
      "text/html": [
       "<div class=\"col search_released responsive_secondrow\">\r\n",
       "                    6 Aug, 2018                </div>"
      ],
      "text/plain": [
       "<IPython.core.display.HTML object>"
      ]
     },
     "metadata": {},
     "output_type": "display_data"
    },
    {
     "data": {
      "text/html": [
       "97"
      ],
      "text/plain": [
       "<IPython.core.display.HTML object>"
      ]
     },
     "metadata": {},
     "output_type": "display_data"
    },
    {
     "data": {
      "text/html": [
       "<div class=\"discount_pct\">-40%</div>"
      ],
      "text/plain": [
       "<IPython.core.display.HTML object>"
      ]
     },
     "metadata": {},
     "output_type": "display_data"
    },
    {
     "data": {
      "text/html": [
       "<div class=\"discount_final_price\">14,99€</div>"
      ],
      "text/plain": [
       "<IPython.core.display.HTML object>"
      ]
     },
     "metadata": {},
     "output_type": "display_data"
    },
    {
     "data": {
      "text/html": [
       "<div class=\"discount_original_price\">24,99€</div>"
      ],
      "text/plain": [
       "<IPython.core.display.HTML object>"
      ]
     },
     "metadata": {},
     "output_type": "display_data"
    },
    {
     "data": {
      "text/html": [
       "['win', 'mac', 'linux']"
      ],
      "text/plain": [
       "<IPython.core.display.HTML object>"
      ]
     },
     "metadata": {},
     "output_type": "display_data"
    },
    {
     "name": "stdout",
     "output_type": "stream",
     "text": [
      "____________\n"
     ]
    },
    {
     "data": {
      "text/html": [
       "<span class=\"title\">Soulash Series Bundle</span>"
      ],
      "text/plain": [
       "<IPython.core.display.HTML object>"
      ]
     },
     "metadata": {},
     "output_type": "display_data"
    },
    {
     "data": {
      "text/html": [
       "<div class=\"col search_released responsive_secondrow\">\n",
       "</div>"
      ],
      "text/plain": [
       "<IPython.core.display.HTML object>"
      ]
     },
     "metadata": {},
     "output_type": "display_data"
    },
    {
     "data": {
      "text/html": [
       "74"
      ],
      "text/plain": [
       "<IPython.core.display.HTML object>"
      ]
     },
     "metadata": {},
     "output_type": "display_data"
    },
    {
     "data": {
      "text/html": [
       "<div class=\"discount_pct\">-32%</div>"
      ],
      "text/plain": [
       "<IPython.core.display.HTML object>"
      ]
     },
     "metadata": {},
     "output_type": "display_data"
    },
    {
     "data": {
      "text/html": [
       "<div class=\"discount_final_price\">21,79€</div>"
      ],
      "text/plain": [
       "<IPython.core.display.HTML object>"
      ]
     },
     "metadata": {},
     "output_type": "display_data"
    },
    {
     "data": {
      "text/html": [
       "<div class=\"discount_original_price\">32,28€</div>"
      ],
      "text/plain": [
       "<IPython.core.display.HTML object>"
      ]
     },
     "metadata": {},
     "output_type": "display_data"
    },
    {
     "data": {
      "text/html": [
       "['win']"
      ],
      "text/plain": [
       "<IPython.core.display.HTML object>"
      ]
     },
     "metadata": {},
     "output_type": "display_data"
    },
    {
     "name": "stdout",
     "output_type": "stream",
     "text": [
      "____________\n"
     ]
    },
    {
     "data": {
      "text/html": [
       "<span class=\"title\">The Witcher® 3: Wild Hunt</span>"
      ],
      "text/plain": [
       "<IPython.core.display.HTML object>"
      ]
     },
     "metadata": {},
     "output_type": "display_data"
    },
    {
     "data": {
      "text/html": [
       "<div class=\"col search_released responsive_secondrow\">\r\n",
       "                    18 May, 2015                </div>"
      ],
      "text/plain": [
       "<IPython.core.display.HTML object>"
      ]
     },
     "metadata": {},
     "output_type": "display_data"
    },
    {
     "data": {
      "text/html": [
       "96"
      ],
      "text/plain": [
       "<IPython.core.display.HTML object>"
      ]
     },
     "metadata": {},
     "output_type": "display_data"
    },
    {
     "data": {
      "text/html": [
       "<div class=\"discount_pct\">-75%</div>"
      ],
      "text/plain": [
       "<IPython.core.display.HTML object>"
      ]
     },
     "metadata": {},
     "output_type": "display_data"
    },
    {
     "data": {
      "text/html": [
       "<div class=\"discount_final_price\">7,49€</div>"
      ],
      "text/plain": [
       "<IPython.core.display.HTML object>"
      ]
     },
     "metadata": {},
     "output_type": "display_data"
    },
    {
     "data": {
      "text/html": [
       "<div class=\"discount_original_price\">29,99€</div>"
      ],
      "text/plain": [
       "<IPython.core.display.HTML object>"
      ]
     },
     "metadata": {},
     "output_type": "display_data"
    },
    {
     "data": {
      "text/html": [
       "['win']"
      ],
      "text/plain": [
       "<IPython.core.display.HTML object>"
      ]
     },
     "metadata": {},
     "output_type": "display_data"
    },
    {
     "name": "stdout",
     "output_type": "stream",
     "text": [
      "____________\n"
     ]
    },
    {
     "data": {
      "text/html": [
       "<span class=\"title\">Megaquarium</span>"
      ],
      "text/plain": [
       "<IPython.core.display.HTML object>"
      ]
     },
     "metadata": {},
     "output_type": "display_data"
    },
    {
     "data": {
      "text/html": [
       "<div class=\"col search_released responsive_secondrow\">\r\n",
       "                    13 Sep, 2018                </div>"
      ],
      "text/plain": [
       "<IPython.core.display.HTML object>"
      ]
     },
     "metadata": {},
     "output_type": "display_data"
    },
    {
     "data": {
      "text/html": [
       "94"
      ],
      "text/plain": [
       "<IPython.core.display.HTML object>"
      ]
     },
     "metadata": {},
     "output_type": "display_data"
    },
    {
     "data": {
      "text/html": [
       "<div class=\"discount_pct\">-70%</div>"
      ],
      "text/plain": [
       "<IPython.core.display.HTML object>"
      ]
     },
     "metadata": {},
     "output_type": "display_data"
    },
    {
     "data": {
      "text/html": [
       "<div class=\"discount_final_price\">7,35€</div>"
      ],
      "text/plain": [
       "<IPython.core.display.HTML object>"
      ]
     },
     "metadata": {},
     "output_type": "display_data"
    },
    {
     "data": {
      "text/html": [
       "<div class=\"discount_original_price\">24,50€</div>"
      ],
      "text/plain": [
       "<IPython.core.display.HTML object>"
      ]
     },
     "metadata": {},
     "output_type": "display_data"
    },
    {
     "data": {
      "text/html": [
       "['win', 'mac', 'linux']"
      ],
      "text/plain": [
       "<IPython.core.display.HTML object>"
      ]
     },
     "metadata": {},
     "output_type": "display_data"
    },
    {
     "name": "stdout",
     "output_type": "stream",
     "text": [
      "____________\n"
     ]
    }
   ],
   "source": [
    "# Testing\n",
    "\n",
    "# Find the search results container\n",
    "games_container = soup.find('div', {'id': 'search_results'})\n",
    "\n",
    "# Find and display the titles and platform support of the first 20 games\n",
    "for game in games_container.find_all('div', class_='responsive_search_name_combined')[:20]:\n",
    "    \n",
    "    # Find title\n",
    "    title = game.find('span', class_='title')\n",
    "\n",
    "    # Find platforms\n",
    "    platform = game.findAll('span', class_='platform_img')\n",
    "    platforms = [platform['class'][-1] for platform in platform]\n",
    "\n",
    "    # Find release date\n",
    "    release_date = game.find('div', class_='search_released')\n",
    "\n",
    "    # Find reviews \n",
    "    reviews = game.find('span', class_='search_review_summary')\n",
    "\n",
    "    tooltip_html = reviews['data-tooltip-html']\n",
    "    percentage_start = tooltip_html.find('<br>') + len('<br>')\n",
    "    percentage_end = tooltip_html.find('%', percentage_start)\n",
    "    percentage = tooltip_html[percentage_start:percentage_end]\n",
    "\n",
    "    # Find sale percentage\n",
    "    sale_percentage = game.find('div', class_='discount_pct')\n",
    "\n",
    "    # Find original price\n",
    "    original_price = game.find('div', class_='discount_original_price')\n",
    "\n",
    "    # Find current price\n",
    "    current_price = game.find('div', class_='discount_final_price')\n",
    "\n",
    "\n",
    "    display(HTML(str(title)))\n",
    "    display(HTML(str(release_date)))\n",
    "    display(HTML(str(percentage)))\n",
    "    display(HTML(str(sale_percentage)))\n",
    "    display(HTML(str(current_price)))\n",
    "    display(HTML(str(original_price)))\n",
    "    display(HTML(str(platforms)))\n",
    "    print(\"____________\")"
   ]
  }
 ],
 "metadata": {
  "kernelspec": {
   "display_name": "Python 3",
   "language": "python",
   "name": "python3"
  },
  "language_info": {
   "codemirror_mode": {
    "name": "ipython",
    "version": 3
   },
   "file_extension": ".py",
   "mimetype": "text/x-python",
   "name": "python",
   "nbconvert_exporter": "python",
   "pygments_lexer": "ipython3",
   "version": "3.11.5"
  }
 },
 "nbformat": 4,
 "nbformat_minor": 2
}
